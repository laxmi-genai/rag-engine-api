{
  "cells": [
    {
      "cell_type": "code",
      "execution_count": null,
      "metadata": {
        "id": "ur8xi4C7S06n"
      },
      "outputs": [],
      "source": [
        "# Copyright 2024 Google LLC\n",
        "#\n",
        "# Licensed under the Apache License, Version 2.0 (the \"License\");\n",
        "# you may not use this file except in compliance with the License.\n",
        "# You may obtain a copy of the License at\n",
        "#\n",
        "#     https://www.apache.org/licenses/LICENSE-2.0\n",
        "#\n",
        "# Unless required by applicable law or agreed to in writing, software\n",
        "# distributed under the License is distributed on an \"AS IS\" BASIS,\n",
        "# WITHOUT WARRANTIES OR CONDITIONS OF ANY KIND, either express or implied.\n",
        "# See the License for the specific language governing permissions and\n",
        "# limitations under the License."
      ]
    },
    {
      "cell_type": "markdown",
      "metadata": {
        "id": "JAPoU8Sm5E6e"
      },
      "source": [
        "# Build with RAG Engine in Vertex AI"
      ]
    },
    {
      "cell_type": "markdown",
      "metadata": {
        "id": "84f0f73a0f76"
      },
      "source": [
        "| | |\n",
        "|-|-|\n",
        "| Author(s) | [Laxmi Harikumar](https://github.com/laxmih-genai) |"
      ]
    },
    {
      "cell_type": "markdown",
      "metadata": {
        "id": "tvgnzT1CKxrO"
      },
      "source": [
        "## Overview\n",
        "\n",
        "**Retrieval Augmented Generation (RAG)** improves large language models by allowing them to access and process external information sources during generation. This ensures the model's responses are grounded in factual data and avoids hallucinations.\n",
        "\n",
        "RAG Engine API\n",
        "\n",
        "\n",
        "\n",
        "For more information, refer to the public documentation for [Vertex AI RAG Engine](https://cloud.google.com/vertex-ai/generative-ai/docs/rag-overview).\n",
        "\n",
        "This notebook aims at providing a hands on tutorial for RAG Engine API with the following steps.\n",
        "\n",
        "- Initialize Vertex AI Vector Search as the vector database\n",
        "- Create a RAG corpus by specifying an embedding model and vector database\n",
        "- Upload a local PDF file to the corpus\n",
        "- Import Alphabet PDFs from TODO\n",
        "- Import a scanned PDF\n",
        "- Set up a retrieval tool\n",
        "- Use your RAG retrieval tool to add context to  Gemini's responses to user queries\n"
      ]
    },
    {
      "cell_type": "markdown",
      "metadata": {
        "id": "61RBz8LLbxCR"
      },
      "source": [
        "## Get started"
      ]
    },
    {
      "cell_type": "markdown",
      "metadata": {
        "id": "No17Cw5hgx12"
      },
      "source": [
        "### Install Vertex AI SDK and other required packages\n"
      ]
    },
    {
      "cell_type": "code",
      "execution_count": null,
      "metadata": {
        "id": "tFy3H3aPgx12",
        "colab": {
          "base_uri": "https://localhost:8080/"
        },
        "executionInfo": {
          "status": "ok",
          "timestamp": 1733390192485,
          "user_tz": -330,
          "elapsed": 17308,
          "user": {
            "displayName": "",
            "userId": ""
          }
        },
        "outputId": "e6e63046-ce51-4e09-cca7-fddcd5506d85"
      },
      "outputs": [
        {
          "output_type": "stream",
          "name": "stdout",
          "text": [
            "\u001b[2K   \u001b[90m━━━━━━━━━━━━━━━━━━━━━━━━━━━━━━━━━━━━━━━━\u001b[0m \u001b[32m6.5/6.5 MB\u001b[0m \u001b[31m55.9 MB/s\u001b[0m eta \u001b[36m0:00:00\u001b[0m\n",
            "\u001b[?25h\u001b[33m  WARNING: The script tb-gcp-uploader is installed in '/root/.local/bin' which is not on PATH.\n",
            "  Consider adding this directory to PATH or, if you prefer to suppress this warning, use --no-warn-script-location.\u001b[0m\u001b[33m\n",
            "\u001b[0m"
          ]
        }
      ],
      "source": [
        "%pip install --upgrade --user --quiet google-cloud-aiplatform"
      ]
    },
    {
      "cell_type": "markdown",
      "metadata": {
        "id": "R5Xep4W9lq-Z"
      },
      "source": [
        "### Restart runtime\n",
        "\n",
        "To use the newly installed packages in this Jupyter runtime, you must restart the runtime. You can do this by running the cell below, which restarts the current kernel.\n",
        "\n",
        "The restart might take a minute or longer. After it's restarted, continue to the next step."
      ]
    },
    {
      "cell_type": "code",
      "execution_count": null,
      "metadata": {
        "id": "XRvKdaPDTznN",
        "colab": {
          "base_uri": "https://localhost:8080/"
        },
        "executionInfo": {
          "status": "ok",
          "timestamp": 1733390195213,
          "user_tz": -330,
          "elapsed": 4,
          "user": {
            "displayName": "",
            "userId": ""
          }
        },
        "outputId": "57ba2b2f-184d-469b-e6c0-bf8a2af5754b"
      },
      "outputs": [
        {
          "output_type": "execute_result",
          "data": {
            "text/plain": [
              "{'status': 'ok', 'restart': True}"
            ]
          },
          "metadata": {},
          "execution_count": 2
        }
      ],
      "source": [
        "import IPython\n",
        "\n",
        "app = IPython.Application.instance()\n",
        "app.kernel.do_shutdown(True)"
      ]
    },
    {
      "cell_type": "markdown",
      "metadata": {
        "id": "SbmM4z7FOBpM"
      },
      "source": [
        "<div class=\"alert alert-block alert-warning\">\n",
        "<b>⚠️ The kernel is going to restart. Wait until it's finished before continuing to the next step. ⚠️</b>\n",
        "</div>\n"
      ]
    },
    {
      "cell_type": "markdown",
      "metadata": {
        "id": "dmWOrTJ3gx13"
      },
      "source": [
        "### Authenticate your notebook environment (Colab only)\n",
        "\n",
        "If you're running this notebook on Google Colab, run the cell below to authenticate your environment."
      ]
    },
    {
      "cell_type": "code",
      "execution_count": null,
      "metadata": {
        "id": "NyKGtVQjgx13",
        "colab": {
          "base_uri": "https://localhost:8080/"
        },
        "executionInfo": {
          "status": "ok",
          "timestamp": 1733390231657,
          "user_tz": -330,
          "elapsed": 694,
          "user": {
            "displayName": "",
            "userId": ""
          }
        },
        "outputId": "e9ca3604-a270-459d-86f9-61ea7338125a"
      },
      "outputs": [
        {
          "output_type": "stream",
          "name": "stdout",
          "text": [
            "WARNING: google.colab.auth.authenticate_user() is not supported in Colab Enterprise.\n"
          ]
        }
      ],
      "source": [
        "import sys\n",
        "\n",
        "if \"google.colab\" in sys.modules:\n",
        "    from google.colab import auth\n",
        "\n",
        "    auth.authenticate_user()"
      ]
    },
    {
      "cell_type": "markdown",
      "metadata": {
        "id": "DF4l8DTdWgPY"
      },
      "source": [
        "### Set Google Cloud project information and initialize Vertex AI SDK\n",
        "\n",
        "To get started using Vertex AI, you must have an existing Google Cloud project and [enable the Vertex AI API](https://console.cloud.google.com/flows/enableapi?apiid=aiplatform.googleapis.com).\n",
        "\n",
        "Learn more about [setting up a project and a development environment](https://cloud.google.com/vertex-ai/docs/start/cloud-environment)."
      ]
    },
    {
      "cell_type": "code",
      "execution_count": 27,
      "metadata": {
        "id": "Nqwi-5ufWp_B",
        "executionInfo": {
          "status": "ok",
          "timestamp": 1733395880693,
          "user_tz": -330,
          "elapsed": 1,
          "user": {
            "displayName": "",
            "userId": ""
          }
        }
      },
      "outputs": [],
      "source": [
        "# Use the environment variable if the user doesn't provide Project ID.\n",
        "import os\n",
        "\n",
        "import vertexai\n",
        "\n",
        "PROJECT_ID = \"demos-vertex\"  # @param {type:\"string\", isTemplate: true}\n",
        "if PROJECT_ID == \"[your-project-id]\":\n",
        "    PROJECT_ID = str(os.environ.get(\"GOOGLE_CLOUD_PROJECT\"))\n",
        "\n",
        "LOCATION = os.environ.get(\"GOOGLE_CLOUD_REGION\", \"us-central1\")\n",
        "\n",
        "vertexai.init(project=PROJECT_ID, location=LOCATION)"
      ]
    },
    {
      "cell_type": "markdown",
      "metadata": {
        "id": "5303c05f7aa6"
      },
      "source": [
        "### Import libraries"
      ]
    },
    {
      "cell_type": "code",
      "execution_count": 28,
      "metadata": {
        "id": "6fc324893334",
        "executionInfo": {
          "status": "ok",
          "timestamp": 1733395899206,
          "user_tz": -330,
          "elapsed": 19,
          "user": {
            "displayName": "",
            "userId": ""
          }
        }
      },
      "outputs": [],
      "source": [
        "from IPython.display import Markdown\n",
        "from vertexai.preview import rag\n",
        "from vertexai.preview.generative_models import GenerativeModel, Tool"
      ]
    },
    {
      "cell_type": "markdown",
      "source": [],
      "metadata": {
        "id": "hR2PnFDq-KyE"
      }
    },
    {
      "cell_type": "markdown",
      "metadata": {
        "id": "e43229f3ad4f"
      },
      "source": [
        "### Create a RAG Corpus"
      ]
    },
    {
      "cell_type": "markdown",
      "source": [
        "Configure the Embedding model"
      ],
      "metadata": {
        "id": "NNNft_xYXAIw"
      }
    },
    {
      "cell_type": "code",
      "source": [
        "EMBEDDING_MODEL = \"text-embedding-004\"  # @param {type:\"string\", isTemplate: true}\n",
        "embedding_model_config = rag.EmbeddingModelConfig(publisher_model=f\"\"\"publishers/google/models/{EMBEDDING_MODEL}\"\"\")"
      ],
      "metadata": {
        "id": "1bROV9uoXFj9",
        "executionInfo": {
          "status": "ok",
          "timestamp": 1733421224630,
          "user_tz": -330,
          "elapsed": 877,
          "user": {
            "displayName": "",
            "userId": ""
          }
        }
      },
      "execution_count": 65,
      "outputs": []
    },
    {
      "cell_type": "code",
      "source": [
        "embedding_model_config"
      ],
      "metadata": {
        "id": "awlblHLjbyy3",
        "colab": {
          "base_uri": "https://localhost:8080/"
        },
        "executionInfo": {
          "status": "ok",
          "timestamp": 1733421225297,
          "user_tz": -330,
          "elapsed": 2,
          "user": {
            "displayName": "",
            "userId": ""
          }
        },
        "outputId": "600c24c3-46b6-40c1-f166-3fc652f50c7e"
      },
      "execution_count": 66,
      "outputs": [
        {
          "output_type": "execute_result",
          "data": {
            "text/plain": [
              "EmbeddingModelConfig(publisher_model='publishers/google/models/text-embedding-004', endpoint=None, model=None, model_version_id=None)"
            ]
          },
          "metadata": {},
          "execution_count": 66
        }
      ]
    },
    {
      "cell_type": "code",
      "source": [
        "CORPUS_DISPLAY_NAME = \"rag-corpus-for-demo\""
      ],
      "metadata": {
        "id": "GrZjzthRYA0O",
        "executionInfo": {
          "status": "ok",
          "timestamp": 1733421227462,
          "user_tz": -330,
          "elapsed": 2,
          "user": {
            "displayName": "",
            "userId": ""
          }
        }
      },
      "execution_count": 67,
      "outputs": []
    },
    {
      "cell_type": "code",
      "execution_count": 68,
      "metadata": {
        "id": "cf93d5f0ce00",
        "executionInfo": {
          "status": "ok",
          "timestamp": 1733421237910,
          "user_tz": -330,
          "elapsed": 9029,
          "user": {
            "displayName": "",
            "userId": ""
          }
        }
      },
      "outputs": [],
      "source": [
        "rag_corpus = rag.create_corpus(\n",
        "    display_name=CORPUS_DISPLAY_NAME,\n",
        "    embedding_model_config=embedding_model_config\n",
        ")"
      ]
    },
    {
      "cell_type": "markdown",
      "metadata": {
        "id": "197c585b61b2"
      },
      "source": [
        "### Check the corpus just created"
      ]
    },
    {
      "cell_type": "code",
      "execution_count": 69,
      "metadata": {
        "id": "f229b13dc617",
        "colab": {
          "base_uri": "https://localhost:8080/"
        },
        "executionInfo": {
          "status": "ok",
          "timestamp": 1733421237910,
          "user_tz": -330,
          "elapsed": 2,
          "user": {
            "displayName": "",
            "userId": ""
          }
        },
        "outputId": "7690554b-470d-403a-8dfb-d4143eeb5ce1"
      },
      "outputs": [
        {
          "output_type": "execute_result",
          "data": {
            "text/plain": [
              "ListRagCorporaPager<rag_corpora {\n",
              "  name: \"projects/demos-vertex/locations/us-central1/ragCorpora/6917529027641081856\"\n",
              "  display_name: \"rag-corpus-for-demo\"\n",
              "  create_time {\n",
              "    seconds: 1733395040\n",
              "    nanos: 536560000\n",
              "  }\n",
              "  update_time {\n",
              "    seconds: 1733395040\n",
              "    nanos: 536560000\n",
              "  }\n",
              "  rag_embedding_model_config {\n",
              "    vertex_prediction_endpoint {\n",
              "      endpoint: \"projects/demos-vertex/locations/us-central1/publishers/google/models/text-embedding-004\"\n",
              "    }\n",
              "  }\n",
              "  rag_vector_db_config {\n",
              "    rag_managed_db {\n",
              "    }\n",
              "    rag_embedding_model_config {\n",
              "      vertex_prediction_endpoint {\n",
              "        endpoint: \"projects/demos-vertex/locations/us-central1/publishers/google/models/text-embedding-004\"\n",
              "      }\n",
              "    }\n",
              "  }\n",
              "  corpus_status {\n",
              "    state: ACTIVE\n",
              "  }\n",
              "  vector_db_config {\n",
              "    rag_managed_db {\n",
              "    }\n",
              "    rag_embedding_model_config {\n",
              "      vertex_prediction_endpoint {\n",
              "        endpoint: \"projects/demos-vertex/locations/us-central1/publishers/google/models/text-embedding-004\"\n",
              "      }\n",
              "    }\n",
              "  }\n",
              "}\n",
              "rag_corpora {\n",
              "  name: \"projects/demos-vertex/locations/us-central1/ragCorpora/3458764513820540928\"\n",
              "  display_name: \"rag-corpus-for-demo\"\n",
              "  create_time {\n",
              "    seconds: 1733396082\n",
              "    nanos: 32961000\n",
              "  }\n",
              "  update_time {\n",
              "    seconds: 1733396082\n",
              "    nanos: 32961000\n",
              "  }\n",
              "  rag_embedding_model_config {\n",
              "    vertex_prediction_endpoint {\n",
              "      endpoint: \"projects/demos-vertex/locations/us-central1/publishers/google/models/text-embedding-004\"\n",
              "    }\n",
              "  }\n",
              "  rag_vector_db_config {\n",
              "    rag_managed_db {\n",
              "    }\n",
              "    rag_embedding_model_config {\n",
              "      vertex_prediction_endpoint {\n",
              "        endpoint: \"projects/demos-vertex/locations/us-central1/publishers/google/models/text-embedding-004\"\n",
              "      }\n",
              "    }\n",
              "  }\n",
              "  corpus_status {\n",
              "    state: ACTIVE\n",
              "  }\n",
              "  vector_db_config {\n",
              "    rag_managed_db {\n",
              "    }\n",
              "    rag_embedding_model_config {\n",
              "      vertex_prediction_endpoint {\n",
              "        endpoint: \"projects/demos-vertex/locations/us-central1/publishers/google/models/text-embedding-004\"\n",
              "      }\n",
              "    }\n",
              "  }\n",
              "}\n",
              "rag_corpora {\n",
              "  name: \"projects/demos-vertex/locations/us-central1/ragCorpora/5188146770730811392\"\n",
              "  display_name: \"rag-corpus-for-demo\"\n",
              "  create_time {\n",
              "    seconds: 1733421233\n",
              "    nanos: 861075000\n",
              "  }\n",
              "  update_time {\n",
              "    seconds: 1733421233\n",
              "    nanos: 861075000\n",
              "  }\n",
              "  rag_embedding_model_config {\n",
              "    vertex_prediction_endpoint {\n",
              "      endpoint: \"projects/demos-vertex/locations/us-central1/publishers/google/models/text-embedding-004\"\n",
              "    }\n",
              "  }\n",
              "  rag_vector_db_config {\n",
              "    rag_managed_db {\n",
              "    }\n",
              "    rag_embedding_model_config {\n",
              "      vertex_prediction_endpoint {\n",
              "        endpoint: \"projects/demos-vertex/locations/us-central1/publishers/google/models/text-embedding-004\"\n",
              "      }\n",
              "    }\n",
              "  }\n",
              "  corpus_status {\n",
              "    state: ACTIVE\n",
              "  }\n",
              "  vector_db_config {\n",
              "    rag_managed_db {\n",
              "    }\n",
              "    rag_embedding_model_config {\n",
              "      vertex_prediction_endpoint {\n",
              "        endpoint: \"projects/demos-vertex/locations/us-central1/publishers/google/models/text-embedding-004\"\n",
              "      }\n",
              "    }\n",
              "  }\n",
              "}\n",
              ">"
            ]
          },
          "metadata": {},
          "execution_count": 69
        }
      ],
      "source": [
        "rag.list_corpora()"
      ]
    },
    {
      "cell_type": "markdown",
      "metadata": {
        "id": "c52924cc1440"
      },
      "source": [
        "### Upload a local file to the corpus"
      ]
    },
    {
      "cell_type": "code",
      "execution_count": 70,
      "metadata": {
        "id": "529390917c29",
        "executionInfo": {
          "status": "ok",
          "timestamp": 1733421248007,
          "user_tz": -330,
          "elapsed": 5511,
          "user": {
            "displayName": "",
            "userId": ""
          }
        }
      },
      "outputs": [],
      "source": [
        "rag_file = rag.upload_file(\n",
        "    corpus_name=rag_corpus.name,\n",
        "    path=\"/content/contents/veo-imagen-blog.pdf\",\n",
        "    display_name=\"veo-imagen-blog.pdf\",\n",
        "    description=\"Veo and Imagen3 announcement\",\n",
        ")"
      ]
    },
    {
      "cell_type": "markdown",
      "source": [
        "### Import a scanned PDF file to the corpus\n",
        "\n",
        "Make sure to set the advanced parsing option"
      ],
      "metadata": {
        "id": "XWrPP-H0qeo4"
      }
    },
    {
      "cell_type": "code",
      "source": [
        "INPUT_GCS_BUCKET = (\n",
        "    \"gs://rag-agent-demo/\"\n",
        ")\n",
        "\n",
        "response = rag.import_files(\n",
        "    corpus_name=rag_corpus.name,\n",
        "    paths=[INPUT_GCS_BUCKET],\n",
        "    use_advanced_pdf_parsing=True,\n",
        "    chunk_size=1024,  # Optional\n",
        "    chunk_overlap=100,  # Optional\n",
        "    max_embedding_requests_per_min=900,  # Optional\n",
        ")\n"
      ],
      "metadata": {
        "id": "IRo05rQ1qd5J",
        "executionInfo": {
          "status": "ok",
          "timestamp": 1733421266990,
          "user_tz": -330,
          "elapsed": 8065,
          "user": {
            "displayName": "",
            "userId": ""
          }
        }
      },
      "execution_count": 72,
      "outputs": []
    },
    {
      "cell_type": "code",
      "source": [
        "list(rag.list_files(corpus_name=rag_corpus.name))"
      ],
      "metadata": {
        "colab": {
          "base_uri": "https://localhost:8080/"
        },
        "id": "txtsJqv7d1SW",
        "executionInfo": {
          "status": "ok",
          "timestamp": 1733421266990,
          "user_tz": -330,
          "elapsed": 1,
          "user": {
            "displayName": "",
            "userId": ""
          }
        },
        "outputId": "876f3033-1f83-48f2-84f6-35794c45ef8d"
      },
      "execution_count": 73,
      "outputs": [
        {
          "output_type": "execute_result",
          "data": {
            "text/plain": [
              "[name: \"projects/756696270058/locations/us-central1/ragCorpora/5188146770730811392/ragFiles/5317619296936551822\"\n",
              " display_name: \"veo-imagen-blog.pdf\"\n",
              " description: \"Veo and Imagen3 announcement\"\n",
              " create_time {\n",
              "   seconds: 1733421246\n",
              "   nanos: 339103000\n",
              " }\n",
              " update_time {\n",
              "   seconds: 1733421246\n",
              "   nanos: 339103000\n",
              " }\n",
              " direct_upload_source {\n",
              " }\n",
              " file_status {\n",
              "   state: ACTIVE\n",
              " },\n",
              " name: \"projects/756696270058/locations/us-central1/ragCorpora/5188146770730811392/ragFiles/5317619445781233038\"\n",
              " display_name: \"contract_1.pdf\"\n",
              " create_time {\n",
              "   seconds: 1733421264\n",
              "   nanos: 80022000\n",
              " }\n",
              " update_time {\n",
              "   seconds: 1733421264\n",
              "   nanos: 80022000\n",
              " }\n",
              " gcs_source {\n",
              "   uris: \"gs://rag-agent-demo/contract_1.pdf\"\n",
              " }\n",
              " file_status {\n",
              "   state: ACTIVE\n",
              " }]"
            ]
          },
          "metadata": {},
          "execution_count": 73
        }
      ]
    },
    {
      "cell_type": "markdown",
      "metadata": {
        "id": "5269a0c2786d"
      },
      "source": [
        "### Import files from Google Cloud Storage\n",
        "\n",
        "For this demo, we'll use a public GCS bucket containing earning reports from Alphabet."
      ]
    },
    {
      "cell_type": "code",
      "execution_count": 77,
      "metadata": {
        "id": "5910ae450f69",
        "executionInfo": {
          "status": "ok",
          "timestamp": 1733421323030,
          "user_tz": -330,
          "elapsed": 24700,
          "user": {
            "displayName": "",
            "userId": ""
          }
        }
      },
      "outputs": [],
      "source": [
        "INPUT_GCS_BUCKET = (\n",
        "    \"gs://cloud-samples-data/gen-app-builder/search/alphabet-investor-pdfs/\"\n",
        ")\n",
        "\n",
        "response = rag.import_files(\n",
        "    corpus_name=rag_corpus.name,\n",
        "    paths=[INPUT_GCS_BUCKET],\n",
        "    chunk_size=1024,  # Optional\n",
        "    chunk_overlap=100,  # Optional\n",
        "    max_embedding_requests_per_min=900,  # Optional\n",
        ")"
      ]
    },
    {
      "cell_type": "code",
      "source": [
        "# List the files\n",
        "# list(rag.list_files(corpus_name=rag_corpus.name))"
      ],
      "metadata": {
        "id": "ix1euOmha8HN",
        "executionInfo": {
          "status": "ok",
          "timestamp": 1733421403366,
          "user_tz": -330,
          "elapsed": 677,
          "user": {
            "displayName": "",
            "userId": ""
          }
        }
      },
      "execution_count": 79,
      "outputs": []
    },
    {
      "cell_type": "markdown",
      "metadata": {
        "id": "f700b3e23121"
      },
      "source": [
        "### Optional: Perform direct context retrieval"
      ]
    },
    {
      "cell_type": "markdown",
      "metadata": {
        "id": "79ea89661842"
      },
      "source": [
        "### Create RAG Retrieval Tool"
      ]
    },
    {
      "cell_type": "code",
      "execution_count": 74,
      "metadata": {
        "id": "0ebceac3d816",
        "executionInfo": {
          "status": "ok",
          "timestamp": 1733421279382,
          "user_tz": -330,
          "elapsed": 667,
          "user": {
            "displayName": "",
            "userId": ""
          }
        }
      },
      "outputs": [],
      "source": [
        "# Create a tool for the RAG Corpus\n",
        "rag_retrieval_tool = Tool.from_retrieval(\n",
        "    retrieval=rag.Retrieval(\n",
        "        source=rag.VertexRagStore(\n",
        "            rag_corpora=[rag_corpus.name],\n",
        "            similarity_top_k=2,\n",
        "            vector_distance_threshold=0.5,\n",
        "        ),\n",
        "    )\n",
        ")"
      ]
    },
    {
      "cell_type": "markdown",
      "metadata": {
        "id": "d88fa7ede853"
      },
      "source": [
        "### Generate Content with Gemini using Rag Retrieval Tool"
      ]
    },
    {
      "cell_type": "code",
      "execution_count": 75,
      "metadata": {
        "id": "8dd928baecd4",
        "executionInfo": {
          "status": "ok",
          "timestamp": 1733421286120,
          "user_tz": -330,
          "elapsed": 684,
          "user": {
            "displayName": "",
            "userId": ""
          }
        }
      },
      "outputs": [],
      "source": [
        "# Load tool into Gemini model\n",
        "rag_gemini_model = GenerativeModel(\n",
        "    \"gemini-1.5-flash-002\",  # your self-deployed endpoint\n",
        "    tools=[rag_retrieval_tool]\n",
        ")"
      ]
    },
    {
      "cell_type": "markdown",
      "source": [
        "Question from the uploaded file"
      ],
      "metadata": {
        "id": "fAMiHymF9u2E"
      }
    },
    {
      "cell_type": "code",
      "execution_count": 55,
      "metadata": {
        "id": "124b36be8d5b",
        "colab": {
          "base_uri": "https://localhost:8080/",
          "height": 64
        },
        "executionInfo": {
          "status": "ok",
          "timestamp": 1733396485186,
          "user_tz": -330,
          "elapsed": 1668,
          "user": {
            "displayName": "",
            "userId": ""
          }
        },
        "outputId": "84b85c9a-e293-4040-aa87-5a11fcfd0a04"
      },
      "outputs": [
        {
          "output_type": "display_data",
          "data": {
            "text/plain": [
              "<IPython.core.display.Markdown object>"
            ],
            "text/markdown": "Google's video generation model is called Veo.  It's described as their most advanced video generation model, capable of generating high-quality, high-definition videos from text or image prompts in a variety of styles.  It's currently available in private preview on Vertex AI.\n"
          },
          "metadata": {}
        }
      ],
      "source": [
        "response = rag_gemini_model.generate_content(\"What is Google's video generation model?\")\n",
        "\n",
        "display(Markdown(response.text))"
      ]
    },
    {
      "cell_type": "markdown",
      "source": [
        "Question from the Alphabet docs in Google GCS Bucket"
      ],
      "metadata": {
        "id": "idloexr49oyw"
      }
    },
    {
      "cell_type": "code",
      "source": [
        "response = rag_gemini_model.generate_content(\"What is the total assets and total liabilities as of December 31 2021?\")\n",
        "display(Markdown(response.text))"
      ],
      "metadata": {
        "colab": {
          "base_uri": "https://localhost:8080/",
          "height": 51
        },
        "id": "7eKtOk3nhkWQ",
        "executionInfo": {
          "status": "ok",
          "timestamp": 1733397339871,
          "user_tz": -330,
          "elapsed": 2983,
          "user": {
            "displayName": "",
            "userId": ""
          }
        },
        "outputId": "7058ad82-a516-40f0-da73-875d3957bedb"
      },
      "execution_count": 59,
      "outputs": [
        {
          "output_type": "display_data",
          "data": {
            "text/plain": [
              "<IPython.core.display.Markdown object>"
            ],
            "text/markdown": "As of December 31, 2021, Alphabet Inc. had total assets of $359,268 million and total liabilities of $107,633 million.\n"
          },
          "metadata": {}
        }
      ]
    },
    {
      "cell_type": "markdown",
      "source": [
        "Question from the scanned PDF"
      ],
      "metadata": {
        "id": "HBvehn5u9hy7"
      }
    },
    {
      "cell_type": "code",
      "source": [
        "response = rag_gemini_model.generate_content(\"What is the price per unit of the office supplies\")\n",
        "display(Markdown(response.text))"
      ],
      "metadata": {
        "colab": {
          "base_uri": "https://localhost:8080/",
          "height": 46
        },
        "id": "cymu3GYi8nXy",
        "executionInfo": {
          "status": "ok",
          "timestamp": 1733421325045,
          "user_tz": -330,
          "elapsed": 2017,
          "user": {
            "displayName": "",
            "userId": ""
          }
        },
        "outputId": "e450ebe2-72b9-4d5a-c166-09ff035747d2"
      },
      "execution_count": 78,
      "outputs": [
        {
          "output_type": "display_data",
          "data": {
            "text/plain": [
              "<IPython.core.display.Markdown object>"
            ],
            "text/markdown": "The price per unit of the office supplies is $15.00.\n"
          },
          "metadata": {}
        }
      ]
    }
  ],
  "metadata": {
    "colab": {
      "name": "vertexai_rag_engine_api.ipynb",
      "provenance": []
    },
    "kernelspec": {
      "display_name": "Python 3",
      "name": "python3"
    }
  },
  "nbformat": 4,
  "nbformat_minor": 0
}