{
  "cells": [
    {
      "cell_type": "code",
      "execution_count": 1,
      "metadata": {
        "id": "ur8xi4C7S06n"
      },
      "outputs": [],
      "source": [
        "# Copyright 2024 Google LLC\n",
        "#\n",
        "# Licensed under the Apache License, Version 2.0 (the \"License\");\n",
        "# you may not use this file except in compliance with the License.\n",
        "# You may obtain a copy of the License at\n",
        "#\n",
        "#     https://www.apache.org/licenses/LICENSE-2.0\n",
        "#\n",
        "# Unless required by applicable law or agreed to in writing, software\n",
        "# distributed under the License is distributed on an \"AS IS\" BASIS,\n",
        "# WITHOUT WARRANTIES OR CONDITIONS OF ANY KIND, either express or implied.\n",
        "# See the License for the specific language governing permissions and\n",
        "# limitations under the License."
      ]
    },
    {
      "cell_type": "markdown",
      "metadata": {
        "id": "JAPoU8Sm5E6e"
      },
      "source": [
        "# Build with RAG Engine in Vertex AI"
      ]
    },
    {
      "cell_type": "markdown",
      "metadata": {
        "id": "84f0f73a0f76"
      },
      "source": [
        "| | |\n",
        "|-|-|\n",
        "| Author(s) | [Laxmi Harikumar](https://github.com/laxmih-genai) |"
      ]
    },
    {
      "cell_type": "markdown",
      "metadata": {
        "id": "tvgnzT1CKxrO"
      },
      "source": [
        "## Overview\n",
        "\n",
        "**Retrieval Augmented Generation (RAG)** improves large language models by allowing them to access and process external information sources during generation. This ensures the model's responses are grounded in factual data and avoids hallucinations.\n",
        "\n",
        "Vertex AI RAG Engine is a data framework for developing context-augmented large language model (LLM) applications. For more information, refer to the public documentation for [Vertex AI RAG Engine](https://cloud.google.com/vertex-ai/generative-ai/docs/rag-overview).\n",
        "\n",
        "This notebook aims at providing a hands on tutorial for RAG Engine API with the following steps.\n",
        "\n",
        "Part 1: Use default managed Vector Db\n",
        "- Create a RAG corpus by specifying an embedding model and vector database\n",
        "- Upload a local PDF file to the corpus\n",
        "- Import a scanned PDF (This requires creating Document AI Layout Parser)\n",
        "- Set up a retrieval tool\n",
        "- Use your RAG retrieval tool to add context to  Gemini's responses to user queries\n",
        "\n",
        "Part 2: Use Vertex AI Vector Search\n",
        "- Set up [Vertex AI Feature Store](https://cloud.google.com/vertex-ai/docs/featurestore/latest/overview) as the vector database to use with RAG Engine.\n",
        "- To use the Vertex AI Feature Store, do the following:\n",
        "  - Create a BigQuery table schema\n",
        "  - Provision a FeatureOnlineStore Instance\n",
        "  - Create a FeatureView resource\n",
        "  - Upload data and online serving\n",
        "- Create RAG Corpus with Vertex AI Feature Store\n",
        "- Import files into the BigQuery table using the RAG API\n",
        "- Run a synchronization process to construct a FeatureOnlineStore index\n",
        "- Set up a retrieval tool\n",
        "- Use your RAG retrieval tool to add context to  Gemini's responses to user queries\n",
        "\n",
        "- Clean up\n",
        "  Delete the corpus\n"
      ]
    },
    {
      "cell_type": "markdown",
      "metadata": {
        "id": "61RBz8LLbxCR"
      },
      "source": [
        "## Get started"
      ]
    },
    {
      "cell_type": "markdown",
      "metadata": {
        "id": "No17Cw5hgx12"
      },
      "source": [
        "### Install Vertex AI SDK and other required packages\n"
      ]
    },
    {
      "cell_type": "code",
      "execution_count": 3,
      "metadata": {
        "id": "tFy3H3aPgx12"
      },
      "outputs": [],
      "source": [
        "%pip install --upgrade --user --quiet google-cloud-aiplatform google-cloud-documentai google-cloud-discoveryengine"
      ]
    },
    {
      "cell_type": "markdown",
      "metadata": {
        "id": "R5Xep4W9lq-Z"
      },
      "source": [
        "### Restart runtime\n",
        "\n",
        "To use the newly installed packages in this Jupyter runtime, you must restart the runtime. You can do this by running the cell below, which restarts the current kernel.\n",
        "\n",
        "The restart might take a minute or longer. After it's restarted, continue to the next step."
      ]
    },
    {
      "cell_type": "code",
      "execution_count": 4,
      "metadata": {
        "id": "XRvKdaPDTznN",
        "colab": {
          "base_uri": "https://localhost:8080/"
        },
        "outputId": "da0f60b9-c5fa-4980-b711-66e6339ba5de"
      },
      "outputs": [
        {
          "output_type": "execute_result",
          "data": {
            "text/plain": [
              "{'status': 'ok', 'restart': True}"
            ]
          },
          "metadata": {},
          "execution_count": 4
        }
      ],
      "source": [
        "import IPython\n",
        "\n",
        "app = IPython.Application.instance()\n",
        "app.kernel.do_shutdown(True)"
      ]
    },
    {
      "cell_type": "markdown",
      "metadata": {
        "id": "SbmM4z7FOBpM"
      },
      "source": [
        "<div class=\"alert alert-block alert-warning\">\n",
        "<b>⚠️ The kernel is going to restart. Wait until it's finished before continuing to the next step. ⚠️</b>\n",
        "</div>\n"
      ]
    },
    {
      "cell_type": "markdown",
      "metadata": {
        "id": "dmWOrTJ3gx13"
      },
      "source": [
        "### Authenticate your notebook environment (Colab only)\n",
        "\n",
        "If you're running this notebook on Google Colab, run the cell below to authenticate your environment."
      ]
    },
    {
      "cell_type": "code",
      "execution_count": null,
      "metadata": {
        "id": "NyKGtVQjgx13"
      },
      "outputs": [],
      "source": [
        "import sys\n",
        "\n",
        "if \"google.colab\" in sys.modules:\n",
        "    from google.colab import auth\n",
        "\n",
        "    auth.authenticate_user()"
      ]
    },
    {
      "cell_type": "markdown",
      "metadata": {
        "id": "DF4l8DTdWgPY"
      },
      "source": [
        "### Set Google Cloud project information and initialize Vertex AI SDK\n",
        "\n",
        "To get started using Vertex AI, you must have an existing Google Cloud project and [enable the Vertex AI API](https://console.cloud.google.com/flows/enableapi?apiid=aiplatform.googleapis.com).\n",
        "\n",
        "Learn more about [setting up a project and a development environment](https://cloud.google.com/vertex-ai/docs/start/cloud-environment)."
      ]
    },
    {
      "cell_type": "code",
      "execution_count": 3,
      "metadata": {
        "id": "Nqwi-5ufWp_B"
      },
      "outputs": [],
      "source": [
        "# Use the environment variable if the user doesn't provide Project ID.\n",
        "import os\n",
        "\n",
        "import vertexai\n",
        "\n",
        "PROJECT_ID = \"demos-vertex\"  # @param {type:\"string\", isTemplate: true}\n",
        "if PROJECT_ID == \"[your-project-id]\":\n",
        "    PROJECT_ID = str(os.environ.get(\"GOOGLE_CLOUD_PROJECT\"))\n",
        "\n",
        "LOCATION = os.environ.get(\"GOOGLE_CLOUD_REGION\", \"us-central1\")\n",
        "\n",
        "vertexai.init(project=PROJECT_ID, location=LOCATION)"
      ]
    },
    {
      "cell_type": "markdown",
      "metadata": {
        "id": "5303c05f7aa6"
      },
      "source": [
        "### Import libraries"
      ]
    },
    {
      "cell_type": "code",
      "execution_count": 2,
      "metadata": {
        "id": "6fc324893334"
      },
      "outputs": [],
      "source": [
        "from IPython.display import Markdown\n",
        "from vertexai.preview import rag\n",
        "from vertexai.preview.generative_models import GenerativeModel, Tool\n",
        "\n",
        "from google.api_core.client_options import ClientOptions\n",
        "from google.api_core.exceptions import FailedPrecondition\n",
        "from google.cloud import documentai\n",
        "\n",
        "from google.cloud import bigquery\n",
        "from vertexai.preview import rag\n",
        "from vertexai.preview.generative_models import GenerativeModel, Tool\n",
        "from vertexai.resources.preview import feature_store"
      ]
    },
    {
      "cell_type": "markdown",
      "source": [
        "## PART 1\n",
        "\n",
        "Create a RAG Corpus by uploading a local file and a scanned document from GCS Bucket. Set up a retrieval tool and get responses to queries"
      ],
      "metadata": {
        "id": "hR2PnFDq-KyE"
      }
    },
    {
      "cell_type": "markdown",
      "source": [
        "### Helper functions"
      ],
      "metadata": {
        "id": "hmTcNkzULK0a"
      }
    },
    {
      "cell_type": "code",
      "source": [
        "def list_files_in_corpus(rag_corpus_name):\n",
        "  # List the files\n",
        "  files = rag.list_files(corpus_name=rag_corpus_name)\n",
        "  for file in files:\n",
        "      print(file.display_name)\n",
        "      print(file.name)"
      ],
      "metadata": {
        "id": "pMfy2BDYLMt7"
      },
      "execution_count": 4,
      "outputs": []
    },
    {
      "cell_type": "markdown",
      "metadata": {
        "id": "e43229f3ad4f"
      },
      "source": [
        "### Create a RAG Corpus"
      ]
    },
    {
      "cell_type": "markdown",
      "source": [
        "Configure the Embedding model"
      ],
      "metadata": {
        "id": "NNNft_xYXAIw"
      }
    },
    {
      "cell_type": "code",
      "source": [
        "EMBEDDING_MODEL = \"text-embedding-004\"  # @param {type:\"string\", isTemplate: true}\n",
        "embedding_model_config = rag.EmbeddingModelConfig(publisher_model=f\"\"\"publishers/google/models/{EMBEDDING_MODEL}\"\"\")"
      ],
      "metadata": {
        "id": "1bROV9uoXFj9"
      },
      "execution_count": 5,
      "outputs": []
    },
    {
      "cell_type": "code",
      "source": [
        "embedding_model_config"
      ],
      "metadata": {
        "id": "awlblHLjbyy3",
        "colab": {
          "base_uri": "https://localhost:8080/"
        },
        "outputId": "22f6569b-01fb-460c-822f-b874970ba531"
      },
      "execution_count": 6,
      "outputs": [
        {
          "output_type": "execute_result",
          "data": {
            "text/plain": [
              "EmbeddingModelConfig(publisher_model='publishers/google/models/text-embedding-004', endpoint=None, model=None, model_version_id=None)"
            ]
          },
          "metadata": {},
          "execution_count": 6
        }
      ]
    },
    {
      "cell_type": "code",
      "source": [
        "CORPUS_DISPLAY_NAME = \"rag-corpus-for-demo\""
      ],
      "metadata": {
        "id": "GrZjzthRYA0O"
      },
      "execution_count": 7,
      "outputs": []
    },
    {
      "cell_type": "code",
      "execution_count": 8,
      "metadata": {
        "id": "cf93d5f0ce00"
      },
      "outputs": [],
      "source": [
        "rag_corpus = rag.create_corpus(\n",
        "    display_name=CORPUS_DISPLAY_NAME,\n",
        "    embedding_model_config=embedding_model_config\n",
        ")"
      ]
    },
    {
      "cell_type": "markdown",
      "metadata": {
        "id": "197c585b61b2"
      },
      "source": [
        "### Check the corpus just created"
      ]
    },
    {
      "cell_type": "code",
      "execution_count": 9,
      "metadata": {
        "id": "f229b13dc617",
        "colab": {
          "base_uri": "https://localhost:8080/"
        },
        "outputId": "7dc8234d-db59-449e-fc32-09599f6a98e5"
      },
      "outputs": [
        {
          "output_type": "execute_result",
          "data": {
            "text/plain": [
              "ListRagCorporaPager<rag_corpora {\n",
              "  name: \"projects/demos-vertex/locations/us-central1/ragCorpora/4467570830351532032\"\n",
              "  display_name: \"Feature Store Corpus\"\n",
              "  create_time {\n",
              "    seconds: 1734470172\n",
              "    nanos: 103948000\n",
              "  }\n",
              "  update_time {\n",
              "    seconds: 1734470172\n",
              "    nanos: 103948000\n",
              "  }\n",
              "  rag_embedding_model_config {\n",
              "    vertex_prediction_endpoint {\n",
              "      endpoint: \"projects/756696270058/locations/us-central1/publishers/google/models/text-embedding-004\"\n",
              "    }\n",
              "  }\n",
              "  rag_vector_db_config {\n",
              "    vertex_feature_store {\n",
              "      feature_view_resource_name: \"projects/756696270058/locations/us-central1/featureOnlineStores/fs_online_store_id/featureViews/feature_view_id\"\n",
              "    }\n",
              "    rag_embedding_model_config {\n",
              "      vertex_prediction_endpoint {\n",
              "        endpoint: \"projects/756696270058/locations/us-central1/publishers/google/models/text-embedding-004\"\n",
              "      }\n",
              "    }\n",
              "  }\n",
              "  corpus_status {\n",
              "    state: ACTIVE\n",
              "  }\n",
              "  vector_db_config {\n",
              "    vertex_feature_store {\n",
              "      feature_view_resource_name: \"projects/756696270058/locations/us-central1/featureOnlineStores/fs_online_store_id/featureViews/feature_view_id\"\n",
              "    }\n",
              "    rag_embedding_model_config {\n",
              "      vertex_prediction_endpoint {\n",
              "        endpoint: \"projects/756696270058/locations/us-central1/publishers/google/models/text-embedding-004\"\n",
              "      }\n",
              "    }\n",
              "  }\n",
              "}\n",
              "rag_corpora {\n",
              "  name: \"projects/demos-vertex/locations/us-central1/ragCorpora/4683743612465315840\"\n",
              "  display_name: \"rag-corpus-for-demo\"\n",
              "  create_time {\n",
              "    seconds: 1734556651\n",
              "    nanos: 651330000\n",
              "  }\n",
              "  update_time {\n",
              "    seconds: 1734556651\n",
              "    nanos: 651330000\n",
              "  }\n",
              "  rag_embedding_model_config {\n",
              "    vertex_prediction_endpoint {\n",
              "      endpoint: \"projects/demos-vertex/locations/us-central1/publishers/google/models/text-embedding-004\"\n",
              "    }\n",
              "  }\n",
              "  rag_vector_db_config {\n",
              "    rag_managed_db {\n",
              "    }\n",
              "    rag_embedding_model_config {\n",
              "      vertex_prediction_endpoint {\n",
              "        endpoint: \"projects/demos-vertex/locations/us-central1/publishers/google/models/text-embedding-004\"\n",
              "      }\n",
              "    }\n",
              "  }\n",
              "  corpus_status {\n",
              "    state: ACTIVE\n",
              "  }\n",
              "  vector_db_config {\n",
              "    rag_managed_db {\n",
              "    }\n",
              "    rag_embedding_model_config {\n",
              "      vertex_prediction_endpoint {\n",
              "        endpoint: \"projects/demos-vertex/locations/us-central1/publishers/google/models/text-embedding-004\"\n",
              "      }\n",
              "    }\n",
              "  }\n",
              "}\n",
              ">"
            ]
          },
          "metadata": {},
          "execution_count": 9
        }
      ],
      "source": [
        "rag.list_corpora()"
      ]
    },
    {
      "cell_type": "markdown",
      "metadata": {
        "id": "c52924cc1440"
      },
      "source": [
        "### Upload a local file to the corpus"
      ]
    },
    {
      "cell_type": "code",
      "execution_count": 10,
      "metadata": {
        "id": "529390917c29"
      },
      "outputs": [],
      "source": [
        "rag_file = rag.upload_file(\n",
        "    corpus_name=rag_corpus.name,\n",
        "    path=\"/content/contents/veo-imagen-blog.pdf\",\n",
        "    display_name=\"veo-imagen-blog.pdf\",\n",
        "    description=\"Veo and Imagen3 announcement\",\n",
        ")"
      ]
    },
    {
      "cell_type": "code",
      "source": [
        "# Check if file is in corpus\n",
        "list_files_in_corpus(rag_corpus.name)"
      ],
      "metadata": {
        "colab": {
          "base_uri": "https://localhost:8080/"
        },
        "id": "XTJS9oFkruKz",
        "outputId": "5191248f-4403-42b9-9661-d4f86922ed82"
      },
      "execution_count": 11,
      "outputs": [
        {
          "output_type": "stream",
          "name": "stdout",
          "text": [
            "veo-imagen-blog.pdf\n",
            "projects/756696270058/locations/us-central1/ragCorpora/4683743612465315840/ragFiles/5327143838195301619\n"
          ]
        }
      ]
    },
    {
      "cell_type": "markdown",
      "source": [
        "### Enable the DocumentAI API\n",
        "\n",
        "[RAG Engine supports DocumentAI's layout parser](https://cloud.google.com/vertex-ai/generative-ai/docs/layout-parser-integration) to extracts content elements (text, tables, lists) from documents for better information retrieval.\n",
        "\n",
        "To use the layour parser Document AI API has to be enabled.\n",
        "\n"
      ],
      "metadata": {
        "id": "BahyOqiFJy3U"
      }
    },
    {
      "cell_type": "code",
      "source": [
        "!gcloud config set project demos-vertex\n",
        "!gcloud services enable documentai.googleapis.com discoveryengine.googleapis.com"
      ],
      "metadata": {
        "colab": {
          "base_uri": "https://localhost:8080/"
        },
        "id": "ku0NmWd1J0nG",
        "outputId": "d0e81e8a-c72c-4dff-a698-60cc08b401d0"
      },
      "execution_count": 12,
      "outputs": [
        {
          "output_type": "stream",
          "name": "stdout",
          "text": [
            "Updated property [core/project].\n",
            "Operation \"operations/acat.p2-756696270058-87551bc0-8b3c-4d4f-bd70-7ae70203fb48\" finished successfully.\n"
          ]
        }
      ]
    },
    {
      "cell_type": "markdown",
      "source": [
        "### Create a Document AI Layout Parser"
      ],
      "metadata": {
        "id": "gv5bkJPzIirK"
      }
    },
    {
      "cell_type": "code",
      "source": [
        "def create_parser_processor(\n",
        "    project_id: str, location: str, processor_display_name: str\n",
        ") -> documentai.Processor:\n",
        "\n",
        "    # Set the `api_endpoint`\n",
        "    client_options = ClientOptions(api_endpoint=f\"{parser_location}-documentai.googleapis.com\")\n",
        "\n",
        "    client = documentai.DocumentProcessorServiceClient(client_options=client_options)\n",
        "\n",
        "    # The full resource name of the location\n",
        "    # e.g.: projects/project_id/locations/location\n",
        "    parent = client.common_location_path(project_id, location)\n",
        "\n",
        "    # try:\n",
        "    # Get the list of existing processors\n",
        "    processor_list = client.list_processors(parent=parent)\n",
        "\n",
        "    # Print the processor information\n",
        "    for processor in processor_list:\n",
        "        if processor.display_name == processor_display_name:\n",
        "          return processor\n",
        "        else:\n",
        "          # Create a processor\n",
        "          processor = client.create_processor(\n",
        "            parent=parent,\n",
        "            processor=documentai.Processor(\n",
        "                display_name=processor_display_name, type_=\"LAYOUT_PARSER_PROCESSOR\"\n",
        "            ),\n",
        "          )\n",
        "          return(processor)"
      ],
      "metadata": {
        "id": "rhnCjktGHhVu"
      },
      "execution_count": 13,
      "outputs": []
    },
    {
      "cell_type": "code",
      "source": [
        "# See https://cloud.google.com/document-ai/docs/regions for all options.\n",
        "parser_location = \"us\"\n",
        "\n",
        "# Must be unique per project\n",
        "parser_display_name = \"rag-engine-demo-processor\"\n",
        "\n",
        "processor = create_parser_processor(PROJECT_ID, parser_location, parser_display_name)"
      ],
      "metadata": {
        "id": "hMnVGuk2AxaO"
      },
      "execution_count": 14,
      "outputs": []
    },
    {
      "cell_type": "code",
      "source": [
        "print(processor.name)"
      ],
      "metadata": {
        "colab": {
          "base_uri": "https://localhost:8080/"
        },
        "id": "5qEzbWorOd4q",
        "outputId": "8ceeb8f2-90f2-444c-b1d2-9a3da347c578"
      },
      "execution_count": 15,
      "outputs": [
        {
          "output_type": "stream",
          "name": "stdout",
          "text": [
            "projects/756696270058/locations/us/processors/24886c09a2f841e2\n"
          ]
        }
      ]
    },
    {
      "cell_type": "code",
      "source": [
        "layout_parser_processor_name = processor.name"
      ],
      "metadata": {
        "id": "o3Vq8LIsA46P"
      },
      "execution_count": 16,
      "outputs": []
    },
    {
      "cell_type": "markdown",
      "source": [
        "### Import a scanned document"
      ],
      "metadata": {
        "id": "Sw99AUPeH7Y5"
      }
    },
    {
      "cell_type": "code",
      "source": [
        "INPUT_GCS_BUCKET = \"gs://rag-agent-demo/\"\n",
        "\n",
        "response = rag.import_files(\n",
        "    corpus_name=rag_corpus.name,\n",
        "    paths=[INPUT_GCS_BUCKET],\n",
        "    chunk_size=512,  # Optional\n",
        "    chunk_overlap=100,  # Optional\n",
        "    max_embedding_requests_per_min=900,  # Optional\n",
        "\n",
        "    layout_parser=rag.LayoutParserConfig(\n",
        "        processor_name=layout_parser_processor_name,\n",
        "        max_parsing_requests_per_min=120,  # Optional\n",
        "    )\n",
        ")\n",
        "print(f\"Imported {response.imported_rag_files_count} files.\")"
      ],
      "metadata": {
        "colab": {
          "base_uri": "https://localhost:8080/"
        },
        "id": "XNoEIxzJHwcP",
        "outputId": "80138740-efb0-4096-8e71-94c436b1eeab"
      },
      "execution_count": 17,
      "outputs": [
        {
          "output_type": "stream",
          "name": "stdout",
          "text": [
            "Imported 1 files.\n"
          ]
        }
      ]
    },
    {
      "cell_type": "code",
      "source": [
        "# List the files in the corpus\n",
        "list_files_in_corpus(rag_corpus.name)"
      ],
      "metadata": {
        "colab": {
          "base_uri": "https://localhost:8080/"
        },
        "id": "4ObXyheZIJrt",
        "outputId": "e25902d3-e113-4add-fb66-29e45bd94ff3"
      },
      "execution_count": 18,
      "outputs": [
        {
          "output_type": "stream",
          "name": "stdout",
          "text": [
            "veo-imagen-blog.pdf\n",
            "projects/756696270058/locations/us-central1/ragCorpora/4683743612465315840/ragFiles/5327143838195301619\n",
            "contract_1.pdf\n",
            "projects/756696270058/locations/us-central1/ragCorpora/4683743612465315840/ragFiles/5327144029487778441\n"
          ]
        }
      ]
    },
    {
      "cell_type": "markdown",
      "metadata": {
        "id": "79ea89661842"
      },
      "source": [
        "### Create RAG Retrieval Tool"
      ]
    },
    {
      "cell_type": "code",
      "execution_count": 19,
      "metadata": {
        "id": "0ebceac3d816"
      },
      "outputs": [],
      "source": [
        "# Create a tool for the RAG Corpus\n",
        "rag_retrieval_tool = Tool.from_retrieval(\n",
        "    retrieval=rag.Retrieval(\n",
        "        source=rag.VertexRagStore(\n",
        "            rag_corpora=[rag_corpus.name],\n",
        "            similarity_top_k=2,\n",
        "            vector_distance_threshold=0.5,\n",
        "        ),\n",
        "    )\n",
        ")"
      ]
    },
    {
      "cell_type": "markdown",
      "metadata": {
        "id": "d88fa7ede853"
      },
      "source": [
        "### Generate Content with Gemini using Rag Retrieval Tool"
      ]
    },
    {
      "cell_type": "code",
      "execution_count": 21,
      "metadata": {
        "id": "8dd928baecd4"
      },
      "outputs": [],
      "source": [
        "# Load tool into Gemini model\n",
        "rag_gemini_model = GenerativeModel(\n",
        "    \"gemini-2.0-flash-exp\",\n",
        "    tools=[rag_retrieval_tool]\n",
        ")"
      ]
    },
    {
      "cell_type": "markdown",
      "source": [
        "Question from the uploaded file"
      ],
      "metadata": {
        "id": "fAMiHymF9u2E"
      }
    },
    {
      "cell_type": "code",
      "execution_count": 22,
      "metadata": {
        "id": "124b36be8d5b",
        "colab": {
          "base_uri": "https://localhost:8080/",
          "height": 64
        },
        "outputId": "11f4b3b9-3f12-4655-84cc-a16a71663864"
      },
      "outputs": [
        {
          "output_type": "display_data",
          "data": {
            "text/plain": [
              "<IPython.core.display.Markdown object>"
            ],
            "text/markdown": "Google's video generation model is called Veo, which is developed by Google DeepMind. It generates high-quality, high-definition videos based on text or image prompts. Veo is available on Vertex AI in private preview.\n"
          },
          "metadata": {}
        }
      ],
      "source": [
        "response = rag_gemini_model.generate_content(\"What is Google's video generation model?\")\n",
        "\n",
        "display(Markdown(response.text))"
      ]
    },
    {
      "cell_type": "markdown",
      "source": [
        "Question from the scanned PDF"
      ],
      "metadata": {
        "id": "HBvehn5u9hy7"
      }
    },
    {
      "cell_type": "code",
      "source": [
        "response = rag_gemini_model.generate_content(\"What is the price per unit of the office supplies\")\n",
        "display(Markdown(response.text))"
      ],
      "metadata": {
        "colab": {
          "base_uri": "https://localhost:8080/",
          "height": 46
        },
        "id": "cymu3GYi8nXy",
        "outputId": "263e36a0-a452-4ebc-dba8-8080b1133881"
      },
      "execution_count": 23,
      "outputs": [
        {
          "output_type": "display_data",
          "data": {
            "text/plain": [
              "<IPython.core.display.Markdown object>"
            ],
            "text/markdown": "The price per unit of the office supplies is $15.00.\n"
          },
          "metadata": {}
        }
      ]
    },
    {
      "cell_type": "markdown",
      "source": [
        "### Clean up - Delete the corpus"
      ],
      "metadata": {
        "id": "CQYGmuyxar1R"
      }
    },
    {
      "cell_type": "code",
      "source": [
        "rag.delete_corpus(rag_corpus.name)"
      ],
      "metadata": {
        "colab": {
          "base_uri": "https://localhost:8080/"
        },
        "id": "d8MIBFeFa2Th",
        "outputId": "53984f6c-d644-418f-b082-17ccb6317b5d"
      },
      "execution_count": 24,
      "outputs": [
        {
          "output_type": "stream",
          "name": "stdout",
          "text": [
            "Successfully deleted the RagCorpus.\n"
          ]
        }
      ]
    },
    {
      "cell_type": "markdown",
      "source": [
        "# Part 2: Using Vertex AI RAG Engine with Feature Store as Vector DB"
      ],
      "metadata": {
        "id": "SMO_YQjoYRTv"
      }
    },
    {
      "cell_type": "markdown",
      "source": [
        "\n",
        "Part 2: Use Vertex AI Vector Search\n",
        "- Set up [Vertex AI Feature Store](https://cloud.google.com/vertex-ai/docs/featurestore/latest/overview) as the vector database to use with RAG Engine.\n",
        "- To use the Vertex AI Feature Store, do the following:\n",
        "  - Create a BigQuery table schema\n",
        "  - Provision a FeatureOnlineStore Instance\n",
        "  - Create a FeatureView resource\n",
        "- Create RAG Corpus with Vertex AI Feature Store\n",
        "- Import files into the BigQuery table using the RAG API\n",
        "- Run a synchronization process to construct a FeatureOnlineStore index\n",
        "- Set up a retrieval tool\n",
        "- Use your RAG retrieval tool to add context to  Gemini's responses to user queries\n",
        "\n",
        "- Context Retrieval and Reranking\n",
        "- Clean up\n",
        "  - Delete the corpus"
      ],
      "metadata": {
        "id": "oGCZ03F6YUSo"
      }
    },
    {
      "cell_type": "markdown",
      "source": [
        "### Helper Functions"
      ],
      "metadata": {
        "id": "vWyO92t9PlAT"
      }
    },
    {
      "cell_type": "code",
      "source": [
        "## Create a BigQuery table schema\n",
        "\n",
        "def create_bq_table_schema(dataset_id, table_id):\n",
        "  client = bigquery.Client(project=PROJECT_ID)\n",
        "\n",
        "  schema = [\n",
        "      bigquery.SchemaField(\"corpus_id\", \"STRING\", mode=\"REQUIRED\"),\n",
        "      bigquery.SchemaField(\"file_id\", \"STRING\", mode=\"REQUIRED\"),\n",
        "      bigquery.SchemaField(\"chunk_id\", \"STRING\", mode=\"REQUIRED\"),\n",
        "      bigquery.SchemaField(\"chunk_data_type\", \"STRING\", mode=\"NULLABLE\"),\n",
        "      bigquery.SchemaField(\"chunk_data\", \"STRING\", mode=\"NULLABLE\"),\n",
        "      bigquery.SchemaField(\"file_original_uri\", \"STRING\", mode=\"NULLABLE\"),\n",
        "      bigquery.SchemaField(\"embeddings\", \"FLOAT64\", mode=\"REPEATED\"),\n",
        "  ]\n",
        "\n",
        "  dataset_ref = bigquery.DatasetReference(PROJECT_ID, dataset_id)\n",
        "\n",
        "  try:\n",
        "      dataset = client.get_dataset(dataset_ref)\n",
        "      print(f\"Dataset {dataset_id} already exists.\")\n",
        "  except Exception:\n",
        "      dataset = bigquery.Dataset(dataset_ref)\n",
        "      dataset.location = \"US\"  # Set the location (optional, adjust if needed)\n",
        "      dataset = client.create_dataset(dataset)\n",
        "      print(f\"Created dataset {dataset.dataset_id}\")\n",
        "\n",
        "  table_ref = dataset_ref.table(table_id)\n",
        "  table = client.create_table(bigquery.Table(table_ref, schema=schema))\n",
        "  print(f\"Created table {PROJECT_ID}.{dataset_id}.{table_id}\")\n",
        "\n",
        "  return table"
      ],
      "metadata": {
        "id": "P8cnXkw8Yh2A"
      },
      "execution_count": 25,
      "outputs": []
    },
    {
      "cell_type": "markdown",
      "source": [
        "To enable online serving of features, use the CreateFeatureOnlineStore API to set up a FeatureOnlineStore instance.\n",
        "\n",
        "Note: If you are provisioning a FeatureOnlineStore for the first time, the operation might take approximately five minutes to complete.\n",
        "\n"
      ],
      "metadata": {
        "id": "3kk9YXHKv6sI"
      }
    },
    {
      "cell_type": "code",
      "source": [
        "## Create Feature Online Store\n",
        "def create_feature_online_store():\n",
        "  fos = feature_store.FeatureOnlineStore.create_optimized_store(FEATURE_ONLINE_STORE_ID)\n",
        "  return fos"
      ],
      "metadata": {
        "id": "SZi3kRoWbni7"
      },
      "execution_count": 26,
      "outputs": []
    },
    {
      "cell_type": "markdown",
      "source": [
        "To connect the BigQuery table, which stores the feature data source, to the FeatureOnlineStore instance, call the CreateFeatureView API to create a FeatureView resource."
      ],
      "metadata": {
        "id": "p0WQzgiqxzBb"
      }
    },
    {
      "cell_type": "code",
      "source": [
        "## Create a FeatureView\n",
        "def create_feature_view(fos):\n",
        "  fv = fos.create_feature_view(\n",
        "      name=FEATURE_VIEW_ID,\n",
        "      source=feature_store.utils.FeatureViewVertexRagSource(uri=BIGQUERY_TABLE),\n",
        "  )\n",
        "  return fv"
      ],
      "metadata": {
        "id": "kqIDXXwEcMWs"
      },
      "execution_count": 27,
      "outputs": []
    },
    {
      "cell_type": "markdown",
      "source": [
        "### Setup Vertex AI Feature Store\n",
        "\n",
        "Create BigQuery Table Schema, Y and Z"
      ],
      "metadata": {
        "id": "i2NJ2TfcSCHF"
      }
    },
    {
      "cell_type": "code",
      "source": [
        "# Define dataset and table name\n",
        "dataset_id=\"rag_engine_demo_ds_id\"  # @param {type:\"string\"}\n",
        "table_id = \"rag_engine_demo_table_id\"  # @param {type:\"string\"}\n",
        "table = create_bq_table_schema(dataset_id, table_id)\n",
        "\n",
        "BIGQUERY_TABLE = f'bq://{table.full_table_id.replace(\":\", \".\")}'\n"
      ],
      "metadata": {
        "colab": {
          "base_uri": "https://localhost:8080/"
        },
        "id": "9a1w31wI0PK4",
        "outputId": "e00d64da-ab3b-412c-aa60-7207de7b58b4"
      },
      "execution_count": 28,
      "outputs": [
        {
          "output_type": "stream",
          "name": "stdout",
          "text": [
            "Created dataset rag_engine_demo_ds_id\n",
            "Created table demos-vertex.rag_engine_demo_ds_id.rag_engine_demo_table_id\n"
          ]
        }
      ]
    },
    {
      "cell_type": "code",
      "source": [
        "FEATURE_ONLINE_STORE_ID = \"fs_online_store_id\"  # @param {type: \"string\"}\n",
        "fos = create_feature_online_store()"
      ],
      "metadata": {
        "colab": {
          "base_uri": "https://localhost:8080/"
        },
        "id": "_jQ5bu3H1NWH",
        "outputId": "43bf7e98-1ab0-4e75-cfe4-9632fd253e49"
      },
      "execution_count": 34,
      "outputs": [
        {
          "output_type": "stream",
          "name": "stderr",
          "text": [
            "INFO:vertexai.resources.preview.feature_store.feature_online_store:Creating FeatureOnlineStore\n",
            "INFO:vertexai.resources.preview.feature_store.feature_online_store:Create FeatureOnlineStore backing LRO: projects/756696270058/locations/us-central1/featureOnlineStores/fs_online_store_id/operations/5193384191290507264\n",
            "INFO:vertexai.resources.preview.feature_store.feature_online_store:FeatureOnlineStore created. Resource name: projects/756696270058/locations/us-central1/featureOnlineStores/fs_online_store_id\n",
            "INFO:vertexai.resources.preview.feature_store.feature_online_store:To use this FeatureOnlineStore in another session:\n",
            "INFO:vertexai.resources.preview.feature_store.feature_online_store:feature_online_store = aiplatform.FeatureOnlineStore('projects/756696270058/locations/us-central1/featureOnlineStores/fs_online_store_id')\n"
          ]
        }
      ]
    },
    {
      "cell_type": "code",
      "source": [
        "FEATURE_VIEW_ID = \"feature_view_id\"  # @param {type: \"string\"}\n",
        "fv = create_feature_view(fos)"
      ],
      "metadata": {
        "colab": {
          "base_uri": "https://localhost:8080/"
        },
        "id": "2MkRYQGG2ieQ",
        "outputId": "74779318-e1ba-4a36-f655-a3eea7e65ef3"
      },
      "execution_count": 35,
      "outputs": [
        {
          "output_type": "stream",
          "name": "stderr",
          "text": [
            "INFO:vertexai.resources.preview.feature_store.feature_online_store:Creating FeatureView\n",
            "INFO:vertexai.resources.preview.feature_store.feature_online_store:Create FeatureView backing LRO: projects/756696270058/locations/us-central1/featureOnlineStores/fs_online_store_id/featureViews/feature_view_id/operations/701606512941858816\n",
            "INFO:vertexai.resources.preview.feature_store.feature_online_store:FeatureView created. Resource name: projects/756696270058/locations/us-central1/featureOnlineStores/fs_online_store_id/featureViews/feature_view_id\n",
            "INFO:vertexai.resources.preview.feature_store.feature_online_store:To use this FeatureView in another session:\n",
            "INFO:vertexai.resources.preview.feature_store.feature_online_store:feature_view = aiplatform.FeatureView('projects/756696270058/locations/us-central1/featureOnlineStores/fs_online_store_id/featureViews/feature_view_id')\n"
          ]
        }
      ]
    },
    {
      "cell_type": "markdown",
      "source": [
        "Use the Vertex AI Feature Store instance as the vector database to create a RAG corpus"
      ],
      "metadata": {
        "id": "zFHa3qD63Mnm"
      }
    },
    {
      "cell_type": "code",
      "source": [
        "vector_db = rag.VertexFeatureStore(resource_name=fv.resource_name)\n",
        "\n",
        "# Name your corpus\n",
        "CORPUS_DISPLAY_NAME = \"Feature Store Corpus\"\n",
        "\n",
        "# Create RAG Corpus\n",
        "rag_corpus = rag.create_corpus(display_name=CORPUS_DISPLAY_NAME, vector_db=vector_db)\n",
        "print(f\"Created RAG Corpus resource: {rag_corpus.name}\")"
      ],
      "metadata": {
        "colab": {
          "base_uri": "https://localhost:8080/"
        },
        "id": "W5W3uZW_3J6m",
        "outputId": "7f1d447b-4203-45f5-8e6e-b6455e1f5bbb"
      },
      "execution_count": 42,
      "outputs": [
        {
          "output_type": "stream",
          "name": "stdout",
          "text": [
            "Created RAG Corpus resource: projects/756696270058/locations/us-central1/ragCorpora/8142508126285856768\n"
          ]
        }
      ]
    },
    {
      "cell_type": "code",
      "source": [
        "# Check the newly created corpus\n",
        "rag.list_corpora()"
      ],
      "metadata": {
        "colab": {
          "base_uri": "https://localhost:8080/"
        },
        "id": "quXc_jJPaLcc",
        "outputId": "ef8594a6-de29-4148-989c-e409bac29f4d"
      },
      "execution_count": 43,
      "outputs": [
        {
          "output_type": "execute_result",
          "data": {
            "text/plain": [
              "ListRagCorporaPager<rag_corpora {\n",
              "  name: \"projects/demos-vertex/locations/us-central1/ragCorpora/8142508126285856768\"\n",
              "  display_name: \"Feature Store Corpus\"\n",
              "  create_time {\n",
              "    seconds: 1734557930\n",
              "    nanos: 159743000\n",
              "  }\n",
              "  update_time {\n",
              "    seconds: 1734557930\n",
              "    nanos: 159743000\n",
              "  }\n",
              "  rag_embedding_model_config {\n",
              "    vertex_prediction_endpoint {\n",
              "      endpoint: \"projects/756696270058/locations/us-central1/publishers/google/models/text-embedding-004\"\n",
              "    }\n",
              "  }\n",
              "  rag_vector_db_config {\n",
              "    vertex_feature_store {\n",
              "      feature_view_resource_name: \"projects/756696270058/locations/us-central1/featureOnlineStores/fs_online_store_id/featureViews/feature_view_id\"\n",
              "    }\n",
              "    rag_embedding_model_config {\n",
              "      vertex_prediction_endpoint {\n",
              "        endpoint: \"projects/756696270058/locations/us-central1/publishers/google/models/text-embedding-004\"\n",
              "      }\n",
              "    }\n",
              "  }\n",
              "  corpus_status {\n",
              "    state: ACTIVE\n",
              "  }\n",
              "  vector_db_config {\n",
              "    vertex_feature_store {\n",
              "      feature_view_resource_name: \"projects/756696270058/locations/us-central1/featureOnlineStores/fs_online_store_id/featureViews/feature_view_id\"\n",
              "    }\n",
              "    rag_embedding_model_config {\n",
              "      vertex_prediction_endpoint {\n",
              "        endpoint: \"projects/756696270058/locations/us-central1/publishers/google/models/text-embedding-004\"\n",
              "      }\n",
              "    }\n",
              "  }\n",
              "}\n",
              ">"
            ]
          },
          "metadata": {},
          "execution_count": 43
        }
      ]
    },
    {
      "cell_type": "markdown",
      "source": [
        "### Import files into the BigQuery table using the RAG API\n",
        "\n",
        "Use the ImportRagFiles API to import files from Google Cloud Storage or Google Drive into the BigQuery table of the Vertex AI Feature Store instance. The files are embedded and stored in the BigQuery table."
      ],
      "metadata": {
        "id": "xKI5-QpZ3oPv"
      }
    },
    {
      "cell_type": "code",
      "source": [
        "GCS_BUCKET = \"gs://cloud-samples-data/gen-app-builder/search/cymbal-bank-employee\"\n",
        "\n",
        "response = rag.import_files(\n",
        "    corpus_name=rag_corpus.name,\n",
        "    paths=[GCS_BUCKET],\n",
        "    chunk_size=512,\n",
        "    chunk_overlap=50,\n",
        ")\n"
      ],
      "metadata": {
        "id": "piY4U7q83pXA"
      },
      "execution_count": 44,
      "outputs": []
    },
    {
      "cell_type": "markdown",
      "source": [
        "### Construct a FeatureOnlineStore index\n",
        "After uploading your data into the BigQuery table, run a synchronization process to make your data available for online serving.\n",
        "You must generate a FeatureOnlineStore index using the FeatureView, and the synchronization process might take 20 minutes to complete.\n",
        "\n"
      ],
      "metadata": {
        "id": "mv_RV2YJ5HEf"
      }
    },
    {
      "cell_type": "code",
      "source": [
        "feature_view_sync = fv.sync()\n",
        "feature_view_sync"
      ],
      "metadata": {
        "colab": {
          "base_uri": "https://localhost:8080/"
        },
        "id": "T9UGwpRo5G0W",
        "outputId": "207dc240-30bb-4f1a-f35c-2bbb86399156"
      },
      "execution_count": 45,
      "outputs": [
        {
          "output_type": "execute_result",
          "data": {
            "text/plain": [
              "<vertexai.resources.preview.feature_store.feature_view.FeatureView.FeatureViewSync object at 0x7d60e6d72e90> \n",
              "resource name: projects/756696270058/locations/us-central1/featureOnlineStores/fs_online_store_id/featureViews/feature_view_id/featureViewSyncs/287290920775188480"
            ]
          },
          "metadata": {},
          "execution_count": 45
        }
      ]
    },
    {
      "cell_type": "markdown",
      "source": [
        "### Create RAG Retrieval Tool\n",
        "\n",
        "Call the Vertex AI GenerateContent API to use Gemini models to generate content, and specify Rag resource name in the request to retrieve data from the FeatureOnlineStore index."
      ],
      "metadata": {
        "id": "rqo7n1qRaiVU"
      }
    },
    {
      "cell_type": "code",
      "source": [
        "rag_retrieval_tool = Tool.from_retrieval(\n",
        "    retrieval=rag.Retrieval(\n",
        "        source=rag.VertexRagStore(\n",
        "            rag_resources=[\n",
        "                rag.RagResource(\n",
        "                    rag_corpus=rag_corpus.name,  # Currently only 1 corpus is allowed.\n",
        "                )\n",
        "            ],\n",
        "            similarity_top_k=3,\n",
        "            vector_distance_threshold=0.4,\n",
        "        ),\n",
        "    )\n",
        ")"
      ],
      "metadata": {
        "id": "n7pMN5j2e4bF"
      },
      "execution_count": 46,
      "outputs": []
    },
    {
      "cell_type": "markdown",
      "source": [
        "### Generate Content with Gemini using Rag Retrieval Tool"
      ],
      "metadata": {
        "id": "Hqw2duekbWpv"
      }
    },
    {
      "cell_type": "code",
      "source": [
        "MODEL_NAME = \"gemini-2.0-flash-exp\""
      ],
      "metadata": {
        "id": "1Z0yPHzZIBQo"
      },
      "execution_count": 52,
      "outputs": []
    },
    {
      "cell_type": "code",
      "source": [
        "rag_fs_model = GenerativeModel(MODEL_NAME, tools=[rag_retrieval_tool])"
      ],
      "metadata": {
        "id": "N2VuAiNFanKu"
      },
      "execution_count": 53,
      "outputs": []
    },
    {
      "cell_type": "markdown",
      "source": [
        "Question from the Alphabet docs in Google GCS Bucket"
      ],
      "metadata": {
        "id": "FcesiEIVgKnY"
      }
    },
    {
      "cell_type": "code",
      "source": [
        "response = rag_fs_model.generate_content(\"What are the five key principles for employees at Cymbal Bank?\")\n",
        "display(Markdown(response.text))"
      ],
      "metadata": {
        "id": "agmu1dnwcL7N",
        "colab": {
          "base_uri": "https://localhost:8080/",
          "height": 46
        },
        "outputId": "d8aacdc7-cbec-4cac-a82d-2a211389362e"
      },
      "execution_count": 54,
      "outputs": [
        {
          "output_type": "display_data",
          "data": {
            "text/plain": [
              "<IPython.core.display.Markdown object>"
            ],
            "text/markdown": "The five key principles for employees at Cymbal Bank are to be open-minded, respectful, inclusive, diverse, and to be yourself.\n"
          },
          "metadata": {}
        }
      ]
    },
    {
      "cell_type": "markdown",
      "metadata": {
        "id": "f700b3e23121"
      },
      "source": [
        "### Perform direct context retrieval\n",
        "\n",
        "Use retrieved contexts with your preferred SDK or API for final output."
      ]
    },
    {
      "cell_type": "code",
      "source": [
        "RETRIEVAL_QUERY = \"What are the five key principles for employees at Cymbal Bank?\"\n",
        "\n",
        "rag_resource = rag.RagResource(\n",
        "    rag_corpus=rag_corpus.name,\n",
        "    # Need to manually get the ids from rag.list_files.\n",
        "    # rag_file_ids=[],\n",
        ")\n",
        "\n",
        "response = rag.retrieval_query(\n",
        "    rag_resources=[rag_resource],  # Currently only 1 corpus is allowed.\n",
        "    text=RETRIEVAL_QUERY,\n",
        "    similarity_top_k=10,\n",
        ")\n",
        "\n",
        "# The retrieved context can be passed to any SDK or model generation API to generate final results.\n",
        "print(response)\n"
      ],
      "metadata": {
        "id": "8iatbcJnb0Og",
        "colab": {
          "base_uri": "https://localhost:8080/"
        },
        "outputId": "1f9251d3-0a8d-4f55-a1a0-a31074da4247"
      },
      "execution_count": 63,
      "outputs": [
        {
          "output_type": "stream",
          "name": "stdout",
          "text": [
            "contexts {\n",
            "  contexts {\n",
            "    source_uri: \"gs://cloud-samples-data/gen-app-builder/search/cymbal-bank-employee/Cymbal Bank New Employee Guide.pdf\"\n",
            "    text: \"Cymbal Bank New Employe Guide\\r\\nUpdated August 11, 2023\\r\\nAuthored by Lewis Cymbal, CEO\\r\\n1. Welcome to Cymbal Bank\\r\\nCongratulations on joining Cymbal Bank! We are excited to have you on our team.\\r\\n2. Your first day\\r\\nYour first day at Cymbal Bank will be a busy one. You will meet with your manager, HR department, and team\\r\\nmembers. You will also be given a tour of the office and introduced to your new colleagues.\\r\\n3. Your first week\\r\\nIn your first week at Cymbal Bank, you will be given a lot of information to take in. You will learn about the company\\r\\nculture, the products and services that we offer, and the expectations that we have for our employees. You will\\r\\nalso be given a lot of paperwork to fill out.\\r\\n4. Your first month\\r\\nIn your first month at Cymbal Bank, you will start to get into the swing of things. You will start to learn your job and\\r\\nthe responsibilities that come with it. You will also start to build relationships with your colleagues.\\r\\n5. Your first year\\r\\nIn your first year at Cymbal Bank, you will continue to learn and grow. You will start to take on more responsibility\\r\\nand you will start to make a real impact on the company. You will also start to build a network of colleagues and\\r\\nmentors.\\r\\n6. Beyond your first year\\r\\nAfter your first year at Cymbal Bank, you will have the opportunity to continue to grow and develop. You will have\\r\\nthe opportunity to take on new challenges and to take on new roles. You will also have the opportunity to learn\\r\\nfrom your colleagues and to mentor them.\\r\\n7. Resources\\r\\nIf you have any questions or concerns, please do not hesitate to reach out to your manager, HR department, or\\r\\nteam members. We are here to help you succeed.\\r\\n8. Welcome to the team!\\r\\nWe are excited to have you on our team and we look forward to working with you.\\r\\nTools to get familiar with\\r\\n\\342\\227\\217 Cymbal Drive: Our internal communication tool.\\r\\n\\342\\227\\217 Cymbal Expense: Our expense tracking tool.\\r\\n\\342\\227\\217 Cymbal Fly: Our travel booking tool.\"\n",
            "    distance: -0.7104302644729614\n",
            "    score: -0.7104302644729614\n",
            "  }\n",
            "  contexts {\n",
            "    source_uri: \"gs://cloud-samples-data/gen-app-builder/search/cymbal-bank-employee/Cymbal Bank Company Culture.pdf\"\n",
            "    text: \"Cymbal Bank Company Culture\\r\\nUpdated August 11, 2023\\r\\nAuthored by Lewis Cymbal, CEO\\r\\n1. Be open-minded\\r\\nOne of the most important things you can do to be a productive member of an inclusive and diverse workforce is\\r\\nto be open-minded. This means being willing to learn about different cultures and perspectives, and being willing\\r\\nto change your own views when necessary. It also means being respectful of others, even if you disagree with\\r\\nthem.\\r\\n2. Be respectful\\r\\nRespect is essential for any productive workplace, but it is especially important in an inclusive and diverse\\r\\nworkforce. This means being respectful of other people\\'s cultures, religions, and sexual orientations. It also means\\r\\nbeing respectful of other people\\'s opinions, even if you disagree with them.\\r\\n3. Be inclusive\\r\\nInclusion is another important part of being a productive member of an inclusive and diverse workforce. This\\r\\nmeans making sure that everyone feels welcome and included, regardless of their background or identity. It also\\r\\nmeans making sure that everyone has an equal opportunity to participate and contribute.\\r\\n4. Be diverse\\r\\nDiversity is a strength, not a weakness. This means embracing different perspectives and experiences, and using\\r\\nthem to create a more innovative and successful workplace. It also means being willing to challenge your own\\r\\nbiases and assumptions.\\r\\n5. Be yourself\\r\\nFinally, it is important to be yourself in an inclusive and diverse workforce. This means being honest about who you\\r\\nare and what you believe in. It also means being comfortable with your own identity and being proud of who you\\r\\nare.\\r\\nFollowing these tips will help you to be a productive member of an inclusive and diverse workforce. By being\\r\\nopen-minded, respectful, inclusive, diverse, and yourself, you can help to create a more positive and productive\\r\\nworkplace for everyone.\\r\\nHere are some additional tips for working in an inclusive and diverse environment:\\r\\n\\342\\227\\217 Be aware of your own biases. We all have biases, whether we are aware of them or not. It is important to be\\r\\naware of your own biases so that you can work to overcome them.\\r\\n\\342\\227\\217 Be open to feedback. If you are working in an inclusive and diverse environment, it is important to be open\\r\\nto feedback.\"\n",
            "    distance: -0.6952338218688965\n",
            "    score: -0.6952338218688965\n",
            "  }\n",
            "  contexts {\n",
            "    source_uri: \"gs://cloud-samples-data/gen-app-builder/search/cymbal-bank-employee/Cymbal Bank New Employee Guide.pdf\"\n",
            "    text: \"Tools to get familiar with\\r\\n\\342\\227\\217 Cymbal Drive: Our internal communication tool.\\r\\n\\342\\227\\217 Cymbal Expense: Our expense tracking tool.\\r\\n\\342\\227\\217 Cymbal Fly: Our travel booking tool.\\r\\n\\342\\227\\217 Cymbal Stay: Our hotel booking tool.\\r\\n\\342\\227\\217 Cymbal Work: Our project management tool.\\r\\nCompany culture\\r\\nCymbal Bank is a fast-paced, results-oriented company. We are always looking for ways to improve and innovate.\\r\\nWe value collaboration, communication, and teamwork.Getting your badge\\r\\nYou will be given your badge on your first day. You will need to wear your badge at all times while you are in the\\r\\noffice.\\r\\nLocation of office\\r\\nThe Cymbal Bank office is located at 123 Main Street, Anytown, CA 91234.\\r\\nHybrid work policy\\r\\nCymbal Bank is a hybrid work company. This means that employees have the option to work from home or in the\\r\\noffice. Employees who choose to work from home must have a dedicated workspace that is free from distractions.\\r\\nAccessing employee gym\\r\\nThe Cymbal Bank gym is located on the 10th floor of the office building. Employees must have a valid employee\\r\\nbadge to access the gym.\\r\\nGetting tech support\\r\\nIf you have any problems with your computer or phone, please contact the IT department at 1-800-555-1212.\"\n",
            "    distance: -0.6768989562988281\n",
            "    score: -0.6768989562988281\n",
            "  }\n",
            "  contexts {\n",
            "    source_uri: \"gs://cloud-samples-data/gen-app-builder/search/cymbal-bank-employee/Cymbal Bank Founding Story.pdf\"\n",
            "    text: \"Cymbal Bank Founding Story\\r\\nWritten July 12, 2020\\r\\nAuthored by Lewis Cymbal, Founder & CEO\\r\\nLewis Cymbal founded Cymbal Bank in 1992 in a small office in downtown Los Angeles. The bank quickly grew, and\\r\\nby 2000, it had 10 branches across the city. In 2005, Cymbal Bank was acquired by a larger bank, but Lewis\\r\\nremained CEO of the combined bank.\\r\\nLewis was excited about the acquisition, as it would allow Cymbal Bank to expand its reach and offer its customers\\r\\nmore services. He also saw it as an opportunity to create a more customer-friendly bank.\\r\\nOne of Lewis\\'s first priorities as CEO of the combined bank was to integrate the two banks. This was a challenging\\r\\ntask, as the two banks had different cultures and different ways of doing things. However, Lewis was able to\\r\\nsuccessfully integrate the two banks, and the combined bank is now one of the largest banks in the city.\\r\\nLewis has also been focused on expanding Cymbal Bank\\'s reach. The bank now has branches in several cities\\r\\nacross the country, and it is planning to expand into new markets. Lewis is confident that Cymbal Bank will\\r\\ncontinue to grow and succeed in the years to come.\"\n",
            "    distance: -0.6430139541625977\n",
            "    score: -0.6430139541625977\n",
            "  }\n",
            "  contexts {\n",
            "    source_uri: \"gs://cloud-samples-data/gen-app-builder/search/cymbal-bank-employee/Cymbal Bank - Strategic Plan for Fiscal Year 2024-2025.pdf\"\n",
            "    text: \"Cymbal Bank - Strategic Plan for Fiscal Year\\r\\n2024-2025\\r\\nDate: September 20, 2024\\r\\nPrepared by: Cymbal Bank Strategy Team\\r\\nReview Committee: Executive Management Team, Board of Directors\\r\\nTable of Contents:\\r\\n1. Executive Summary\\r\\n2. Vision & Mission\\r\\n3. Strategic Goals & Objectives\\r\\n4. Market Analysis\\r\\n5. Risk Assessment\\r\\n6. Key Initiatives\\r\\n7. Financial Projections\\r\\n8. Timeline & Milestones\\r\\n9. Performance Metrics\\r\\n10. Appendices\\r\\n1. Executive Summary\\r\\nCymbal Bank is positioning itself for growth in the upcoming fiscal year through innovation, customer-centric solutions,\\r\\nand operational efficiency. This strategic plan outlines the bank\\342\\200\\231s goals, initiatives, and the steps necessary to achieve\\r\\nsustainable growth while addressing market challenges and evolving financial landscapes. Key areas of focus include\\r\\nexpanding digital offerings, improving customer experience, and ensuring compliance with regulatory changes.\\r\\n2. Vision & Mission\\r\\nVision:\\r\\nTo be the most trusted and innovative financial partner, delivering personalized and secure banking solutions.\\r\\nMission:\\r\\nCymbal Bank strives to empower individuals, businesses, and communities through reliable banking services,\\r\\ncutting-edge technology, and exceptional customer care.\\r\\n3. Strategic Goals & Objectives\\r\\n- Digital Transformation- Increase digital engagement by 30% within the next 12 months.\\r\\n- Launch a redesigned mobile banking app with enhanced AI-driven personal finance tools by Q3 2024.\\r\\n- Customer-Centric Growth\\r\\n- Grow customer base by 15% year-on-year with a focus on underserved markets.\\r\\n- Improve customer satisfaction scores by 10% through streamlined customer service processes.\\r\\n- Operational Efficiency\\r\\n- Reduce operating expenses by 5% through automation and process optimization by Q2 2025.\\r\\n- Consolidate underperforming branches and realign resources to high-growth areas.\\r\\n- Regulatory Compliance & Risk Management\\r\\n- Implement new regulatory frameworks for data security and anti-money laundering (AML) by the end\\r\\nof FY 2024.\\r\\n- Reduce credit default rates by 2% through improved risk assessment models and loan portfolio\\r\\nmanagement.\\r\\n4.\"\n",
            "    distance: -0.6407346725463867\n",
            "    score: -0.6407346725463867\n",
            "  }\n",
            "  contexts {\n",
            "    source_uri: \"gs://cloud-samples-data/gen-app-builder/search/cymbal-bank-employee/Cymbal Bank Organizations & Roles.pdf\"\n",
            "    text: \"Cymbal Bank Organizations and Roles\\r\\nUpdated August 11, 2023\\r\\nAuthored by Lewis Cymbal, Founder & CEO\\r\\nOrganizations\\r\\n\\342\\227\\217 Cymbal Bank is a fictional bank that is headquartered in the United States. It has branches in Asia, Europe,\\r\\nLatin America, North America, and Oceania. Cymbal Bank is a full-service bank that offers a variety of\\r\\nproducts and services to its customers.\\r\\n\\342\\227\\217 Cymbal Bank (Asia) is the Asian branch of Cymbal Bank. It is headquartered in Hong Kong and has\\r\\nbranches in China, Japan, and South Korea. Cymbal Bank (Asia) offers a variety of products and services to\\r\\nits customers, including checking and savings accounts, loans, and investments.\\r\\n\\342\\227\\217 Cymbal Bank (Europe) is the European branch of Cymbal Bank. It is headquartered in London and has\\r\\nbranches in France, Germany, and Italy. Cymbal Bank (Europe) offers a variety of products and services to\\r\\nits customers, including checking and savings accounts, loans, and investments.\\r\\n\\342\\227\\217 Cymbal Bank (Latin America) is the Latin American branch of Cymbal Bank. It is headquartered in Mexico\\r\\nCity and has branches in Argentina, Brazil, and Colombia. Cymbal Bank (Latin America) offers a variety of\\r\\nproducts and services to its customers, including checking and savings accounts, loans, and investments.\\r\\n\\342\\227\\217 Cymbal Bank (North America) is the North American branch of Cymbal Bank. It is headquartered in New\\r\\nYork City and has branches in Canada and the United States. Cymbal Bank (North America) offers a variety\\r\\nof products and services to its customers, including checking and savings accounts, loans, and\\r\\ninvestments.\\r\\n\\342\\227\\217 Cymbal Bank (Oceania) is the Oceanian branch of Cymbal Bank. It is headquartered in Sydney and has\\r\\nbranches in Australia and New Zealand. Cymbal Bank (Oceania) offers a variety of products and services to\\r\\nits customers, including checking and savings accounts, loans, and investments.\\r\\nJob Titles\\r\\nAccountant\\r\\nThe Accountant at Cymbal Bank is responsible for maintaining accurate financial records, preparing financial\\r\\nstatements, and ensuring compliance with accounting standards and regulations.\"\n",
            "    distance: -0.6339029669761658\n",
            "    score: -0.6339029669761658\n",
            "  }\n",
            "  contexts {\n",
            "    source_uri: \"gs://cloud-samples-data/gen-app-builder/search/cymbal-bank-employee/Cymbal Bank Organizations & Roles.pdf\"\n",
            "    text: \"Job Titles\\r\\nAccountant\\r\\nThe Accountant at Cymbal Bank is responsible for maintaining accurate financial records, preparing financial\\r\\nstatements, and ensuring compliance with accounting standards and regulations. They play a critical role in managing\\r\\nfinancial data and providing insights to aid decision-making.\\r\\nAdministrative Assistant\\r\\nThe Administrative Assistant provides essential support to various departments within Cymbal Bank. They handle\\r\\nadministrative tasks, manage schedules, coordinate meetings, and assist in maintaining smooth operations across the\\r\\norganization.\\r\\nAnalyst\\r\\nAnalysts at Cymbal Bank analyze data, market trends, and customer behavior to provide valuable insights for informed\\r\\ndecision-making. They collaborate with different teams to assess opportunities, risks, and performance metrics.\\r\\nArchitect\\r\\nThe Architect designs and oversees the implementation of technological solutions for Cymbal Bank. They create and\\r\\nmaintain the bank\\'s IT architecture, ensuring systems are scalable, secure, and aligned with business goals.Assistant Manager\\r\\nThe Assistant Manager supports departmental managers in various aspects of operations, including team\\r\\nmanagement, project coordination, and process optimization. They contribute to efficient workflows and effective\\r\\ncommunication.\\r\\nBanker\\r\\nBankers at Cymbal Bank manage customer relationships, offer financial advice, and provide personalized banking\\r\\nsolutions. They assist customers with their banking needs, from account management to financial planning.\\r\\nBank Manager\\r\\nThe Bank Manager oversees the operations of a Cymbal Bank branch. They ensure excellent customer service, efficient\\r\\nbanking processes, and adherence to regulatory guidelines, while also driving business growth.\\r\\nBranch Manager\\r\\nThe Branch Manager leads the daily operations of a specific Cymbal Bank branch. They manage staff, maintain\\r\\ncustomer satisfaction, and collaborate with other departments to achieve branch goals.\\r\\nBroker\\r\\nBrokers at Cymbal Bank facilitate financial transactions and provide investment advice to clients. They help clients\\r\\nmake informed decisions about buying, selling, and managing various financial assets.\\r\\nBusiness Analyst\\r\\nBusiness Analysts study business processes, identify opportunities for improvement, and recommend solutions to\\r\\nenhance efficiency and effectiveness at Cymbal Bank. They bridge the gap between technology and business needs.\\r\\nBusiness Development Manager\\r\\nThe Business Development Manager is responsible for identifying growth opportunities, building strategic partnerships,\\r\\nand expanding Cymbal Bank\\'s customer base. They play a pivotal role in shaping the bank\\'s future.\"\n",
            "    distance: -0.6320236921310425\n",
            "    score: -0.6320236921310425\n",
            "  }\n",
            "  contexts {\n",
            "    source_uri: \"gs://cloud-samples-data/gen-app-builder/search/cymbal-bank-employee/Cymbal Bank Organizations & Roles.pdf\"\n",
            "    text: \"They optimize financial\\r\\nresources and ensure compliance with treasury policies.\\r\\nUnderwriter\\r\\nUnderwriters evaluate and assess risks associated with loans, insurance policies, and other financial products at\\r\\nCymbal Bank. They determine terms, conditions, and eligibility.\\r\\nVice President\\r\\nVice Presidents at Cymbal Bank hold leadership positions responsible for specific departments or functions. They\\r\\nprovide strategic direction, manage teams, and contribute to overall organizational success.\\r\\nWealth Management Advisor\\r\\nWealth Management Advisors offer comprehensive financial advice to high-net-worth clients at Cymbal Bank. They\\r\\nprovide customized strategies for investment, estate planning, and wealth preservation.\\r\\nWeb Developer\\r\\nWeb Developers create and maintain websites and web applications for Cymbal Bank. They design user-friendly\\r\\ninterfaces, ensure functionality, and contribute to an engaging online presence.\\r\\nWeb Designer\\r\\nWeb Designers focus on the visual and aesthetic aspects of Cymbal Bank\\'s websites and online platforms. They create\\r\\nengaging designs that enhance user experience and brand identity.\\r\\nWebmaster\\r\\nWebmasters oversee the maintenance and updates of Cymbal Bank\\'s websites. They ensure content is accurate, up to\\r\\ndate, and aligns with the bank\\'s online presence.\"\n",
            "    distance: -0.6251685619354248\n",
            "    score: -0.6251685619354248\n",
            "  }\n",
            "  contexts {\n",
            "    source_uri: \"gs://cloud-samples-data/gen-app-builder/search/cymbal-bank-employee/Cymbal Bank Organizations & Roles.pdf\"\n",
            "    text: \"Business Development Manager\\r\\nThe Business Development Manager is responsible for identifying growth opportunities, building strategic partnerships,\\r\\nand expanding Cymbal Bank\\'s customer base. They play a pivotal role in shaping the bank\\'s future.\\r\\nBusiness Intelligence Analyst\\r\\nBusiness Intelligence Analysts gather and analyze data to provide actionable insights that drive informed business\\r\\ndecisions at Cymbal Bank. They create reports, dashboards, and data visualizations to support various teams.\\r\\nBusiness Process Analyst\\r\\nBusiness Process Analysts evaluate and optimize workflows and processes at Cymbal Bank. They collaborate with\\r\\nteams to streamline operations, enhance productivity, and align processes with business goals.\\r\\nCall Center Representative\\r\\nCall Center Representatives provide customer support and assistance over the phone. They address inquiries, resolve\\r\\nissues, and ensure positive customer experiences with Cymbal Bank\\'s services.\\r\\nCashier\\r\\nCashiers handle financial transactions, including deposits, withdrawals, and account inquiries, at Cymbal Bank\\r\\nbranches. They provide accurate and efficient service while maintaining cash handling standards.\\r\\nChief Financial Officer (CFO)\\r\\nThe CFO oversees Cymbal Bank\\'s financial strategy, planning, and reporting. They ensure financial stability, risk\\r\\nmanagement, and effective resource allocation to achieve the bank\\'s objectives.\\r\\nChief Information Officer (CIO)The CIO leads the technology strategy at Cymbal Bank, overseeing IT operations, infrastructure, and innovation. They\\r\\nalign technology initiatives with the bank\\'s business goals.\\r\\nChief Risk Officer (CRO)\\r\\nThe CRO manages and mitigates risks associated with Cymbal Bank\\'s operations. They develop risk management\\r\\nstrategies, policies, and controls to ensure the bank\\'s financial safety.\\r\\nChief Technology Officer (CTO)\\r\\nThe CTO is responsible for Cymbal Bank\\'s technology vision and direction. They lead the development of technological\\r\\nsolutions that enhance the bank\\'s services, security, and efficiency.\\r\\nClient Relationship Manager\\r\\nClient Relationship Managers at Cymbal Bank build and maintain strong relationships with clients, understanding their\\r\\nfinancial needs and offering tailored solutions to help them achieve their goals.\\r\\nCloud Engineer\\r\\nCloud Engineers design, implement, and manage cloud-based solutions for Cymbal Bank\\'s IT infrastructure. They\\r\\nensure the security, scalability, and reliability of cloud services.\\r\\nCloud Architect\\r\\nCloud Architects create the overall structure of Cymbal Bank\\'s cloud computing environment.\"\n",
            "    distance: -0.6178042888641357\n",
            "    score: -0.6178042888641357\n",
            "  }\n",
            "  contexts {\n",
            "    source_uri: \"gs://cloud-samples-data/gen-app-builder/search/cymbal-bank-employee/Cymbal Bank Organizations & Roles.pdf\"\n",
            "    text: \"They provide\\r\\ninsights that guide investment decisions and strategic planning.\\r\\nFinancial Accountant\\r\\nFinancial Accountants manage financial transactions, reporting, and compliance at Cymbal Bank. They ensure accurate\\r\\nrecording of financial data and adherence to accounting standards.\\r\\nFinancial Advisor\\r\\nFinancial Advisors at Cymbal Bank offer expert guidance to clients on managing their finances and achieving their\\r\\nfinancial goals. They provide personalized strategies for investments, retirement planning, and wealth management.\\r\\nFinancial Planner\\r\\nFinancial Planners create comprehensive financial plans for clients at Cymbal Bank. They consider various aspects of a\\r\\nclient\\'s financial situation to develop strategies that align with their objectives.\\r\\nFront Desk Clerk\\r\\nFront Desk Clerks provide welcoming and efficient service to customers visiting Cymbal Bank branches. They assist\\r\\nwith inquiries, direct customers, and contribute to a positive first impression.\\r\\nHuman Resources Manager\\r\\nThe Human Resources Manager oversees HR operations at Cymbal Bank. They manage recruitment, employee\\r\\nrelations, training, and ensure compliance with HR policies and regulations.\\r\\nInformation Technology Analyst\\r\\nIT Analysts assess and address Cymbal Bank\\'s technology needs. They analyze requirements, recommend solutions,\\r\\nand support the implementation of IT projects.\\r\\nInformation Technology Manager\\r\\nIT Managers lead Cymbal Bank\\'s IT department, overseeing technology initiatives, infrastructure, and support services.\\r\\nThey align IT strategies with business objectives.\\r\\nInformation Technology Specialist\\r\\nIT Specialists provide technical support and troubleshoot technology issues at Cymbal Bank. They ensure the smooth\\r\\noperation of IT systems and assist users with technical inquiries.\\r\\nInsurance Sales RepresentativeInsurance Sales Representatives at Cymbal Bank sell insurance products to customers. They assess clients\\' needs,\\r\\nexplain coverage options, and help clients make informed decisions.\\r\\nInternal Auditor\\r\\nInternal Auditors ensure compliance and assess the effectiveness of internal controls at Cymbal Bank. They help\\r\\nidentify areas for improvement and promote transparency and accountability.\\r\\nInvestor Relations Manager\\r\\nThe Investor Relations Manager at Cymbal Bank communicates with shareholders and investors. They provide financial\\r\\nupdates, manage relationships, and facilitate transparent communication.\\r\\nMarketing Manager\\r\\nMarketing Managers develop and execute marketing strategies at Cymbal Bank. They promote the bank\\'s products and\\r\\nservices, manage campaigns, and contribute to brand growth.\\r\\nMarketing Specialist\\r\\nMarketing Specialists support marketing efforts at Cymbal Bank.\"\n",
            "    distance: -0.6175665855407715\n",
            "    score: -0.6175665855407715\n",
            "  }\n",
            "}\n",
            "\n"
          ]
        }
      ]
    },
    {
      "cell_type": "code",
      "source": [
        "rag_retrieval_config = rag.RagRetrievalConfig(\n",
        "    top_k=10,\n",
        "    ranking=rag.Ranking(\n",
        "        llm_ranker=rag.LlmRanker(\n",
        "            model_name=MODEL_NAME\n",
        "        ),\n",
        "    )\n",
        ")\n",
        "\n",
        "response = rag.retrieval_query(\n",
        "    rag_resources=[\n",
        "        rag.RagResource(\n",
        "            rag_corpus=rag_corpus.name,\n",
        "        )\n",
        "    ],\n",
        "    text=RETRIEVAL_QUERY,\n",
        "    rag_retrieval_config=rag_retrieval_config,\n",
        "    similarity_top_k=10\n",
        ")\n",
        "print(response)"
      ],
      "metadata": {
        "colab": {
          "base_uri": "https://localhost:8080/"
        },
        "id": "xAhOfKZqH6OQ",
        "outputId": "194dada3-011e-47ab-d469-8261b880b3dd"
      },
      "execution_count": 62,
      "outputs": [
        {
          "output_type": "stream",
          "name": "stdout",
          "text": [
            "contexts {\n",
            "  contexts {\n",
            "    source_uri: \"gs://cloud-samples-data/gen-app-builder/search/cymbal-bank-employee/Cymbal Bank Company Culture.pdf\"\n",
            "    text: \"Cymbal Bank Company Culture\\r\\nUpdated August 11, 2023\\r\\nAuthored by Lewis Cymbal, CEO\\r\\n1. Be open-minded\\r\\nOne of the most important things you can do to be a productive member of an inclusive and diverse workforce is\\r\\nto be open-minded. This means being willing to learn about different cultures and perspectives, and being willing\\r\\nto change your own views when necessary. It also means being respectful of others, even if you disagree with\\r\\nthem.\\r\\n2. Be respectful\\r\\nRespect is essential for any productive workplace, but it is especially important in an inclusive and diverse\\r\\nworkforce. This means being respectful of other people\\'s cultures, religions, and sexual orientations. It also means\\r\\nbeing respectful of other people\\'s opinions, even if you disagree with them.\\r\\n3. Be inclusive\\r\\nInclusion is another important part of being a productive member of an inclusive and diverse workforce. This\\r\\nmeans making sure that everyone feels welcome and included, regardless of their background or identity. It also\\r\\nmeans making sure that everyone has an equal opportunity to participate and contribute.\\r\\n4. Be diverse\\r\\nDiversity is a strength, not a weakness. This means embracing different perspectives and experiences, and using\\r\\nthem to create a more innovative and successful workplace. It also means being willing to challenge your own\\r\\nbiases and assumptions.\\r\\n5. Be yourself\\r\\nFinally, it is important to be yourself in an inclusive and diverse workforce. This means being honest about who you\\r\\nare and what you believe in. It also means being comfortable with your own identity and being proud of who you\\r\\nare.\\r\\nFollowing these tips will help you to be a productive member of an inclusive and diverse workforce. By being\\r\\nopen-minded, respectful, inclusive, diverse, and yourself, you can help to create a more positive and productive\\r\\nworkplace for everyone.\\r\\nHere are some additional tips for working in an inclusive and diverse environment:\\r\\n\\342\\227\\217 Be aware of your own biases. We all have biases, whether we are aware of them or not. It is important to be\\r\\naware of your own biases so that you can work to overcome them.\\r\\n\\342\\227\\217 Be open to feedback. If you are working in an inclusive and diverse environment, it is important to be open\\r\\nto feedback.\"\n",
            "    distance: -0.6952338218688965\n",
            "    score: -0.6952338218688965\n",
            "  }\n",
            "  contexts {\n",
            "    source_uri: \"gs://cloud-samples-data/gen-app-builder/search/cymbal-bank-employee/Cymbal Bank - Strategic Plan for Fiscal Year 2024-2025.pdf\"\n",
            "    text: \"Cymbal Bank - Strategic Plan for Fiscal Year\\r\\n2024-2025\\r\\nDate: September 20, 2024\\r\\nPrepared by: Cymbal Bank Strategy Team\\r\\nReview Committee: Executive Management Team, Board of Directors\\r\\nTable of Contents:\\r\\n1. Executive Summary\\r\\n2. Vision & Mission\\r\\n3. Strategic Goals & Objectives\\r\\n4. Market Analysis\\r\\n5. Risk Assessment\\r\\n6. Key Initiatives\\r\\n7. Financial Projections\\r\\n8. Timeline & Milestones\\r\\n9. Performance Metrics\\r\\n10. Appendices\\r\\n1. Executive Summary\\r\\nCymbal Bank is positioning itself for growth in the upcoming fiscal year through innovation, customer-centric solutions,\\r\\nand operational efficiency. This strategic plan outlines the bank\\342\\200\\231s goals, initiatives, and the steps necessary to achieve\\r\\nsustainable growth while addressing market challenges and evolving financial landscapes. Key areas of focus include\\r\\nexpanding digital offerings, improving customer experience, and ensuring compliance with regulatory changes.\\r\\n2. Vision & Mission\\r\\nVision:\\r\\nTo be the most trusted and innovative financial partner, delivering personalized and secure banking solutions.\\r\\nMission:\\r\\nCymbal Bank strives to empower individuals, businesses, and communities through reliable banking services,\\r\\ncutting-edge technology, and exceptional customer care.\\r\\n3. Strategic Goals & Objectives\\r\\n- Digital Transformation- Increase digital engagement by 30% within the next 12 months.\\r\\n- Launch a redesigned mobile banking app with enhanced AI-driven personal finance tools by Q3 2024.\\r\\n- Customer-Centric Growth\\r\\n- Grow customer base by 15% year-on-year with a focus on underserved markets.\\r\\n- Improve customer satisfaction scores by 10% through streamlined customer service processes.\\r\\n- Operational Efficiency\\r\\n- Reduce operating expenses by 5% through automation and process optimization by Q2 2025.\\r\\n- Consolidate underperforming branches and realign resources to high-growth areas.\\r\\n- Regulatory Compliance & Risk Management\\r\\n- Implement new regulatory frameworks for data security and anti-money laundering (AML) by the end\\r\\nof FY 2024.\\r\\n- Reduce credit default rates by 2% through improved risk assessment models and loan portfolio\\r\\nmanagement.\\r\\n4.\"\n",
            "    distance: -0.6407346725463867\n",
            "    score: -0.6407346725463867\n",
            "  }\n",
            "  contexts {\n",
            "    source_uri: \"gs://cloud-samples-data/gen-app-builder/search/cymbal-bank-employee/Cymbal Bank New Employee Guide.pdf\"\n",
            "    text: \"Cymbal Bank New Employe Guide\\r\\nUpdated August 11, 2023\\r\\nAuthored by Lewis Cymbal, CEO\\r\\n1. Welcome to Cymbal Bank\\r\\nCongratulations on joining Cymbal Bank! We are excited to have you on our team.\\r\\n2. Your first day\\r\\nYour first day at Cymbal Bank will be a busy one. You will meet with your manager, HR department, and team\\r\\nmembers. You will also be given a tour of the office and introduced to your new colleagues.\\r\\n3. Your first week\\r\\nIn your first week at Cymbal Bank, you will be given a lot of information to take in. You will learn about the company\\r\\nculture, the products and services that we offer, and the expectations that we have for our employees. You will\\r\\nalso be given a lot of paperwork to fill out.\\r\\n4. Your first month\\r\\nIn your first month at Cymbal Bank, you will start to get into the swing of things. You will start to learn your job and\\r\\nthe responsibilities that come with it. You will also start to build relationships with your colleagues.\\r\\n5. Your first year\\r\\nIn your first year at Cymbal Bank, you will continue to learn and grow. You will start to take on more responsibility\\r\\nand you will start to make a real impact on the company. You will also start to build a network of colleagues and\\r\\nmentors.\\r\\n6. Beyond your first year\\r\\nAfter your first year at Cymbal Bank, you will have the opportunity to continue to grow and develop. You will have\\r\\nthe opportunity to take on new challenges and to take on new roles. You will also have the opportunity to learn\\r\\nfrom your colleagues and to mentor them.\\r\\n7. Resources\\r\\nIf you have any questions or concerns, please do not hesitate to reach out to your manager, HR department, or\\r\\nteam members. We are here to help you succeed.\\r\\n8. Welcome to the team!\\r\\nWe are excited to have you on our team and we look forward to working with you.\\r\\nTools to get familiar with\\r\\n\\342\\227\\217 Cymbal Drive: Our internal communication tool.\\r\\n\\342\\227\\217 Cymbal Expense: Our expense tracking tool.\\r\\n\\342\\227\\217 Cymbal Fly: Our travel booking tool.\"\n",
            "    distance: -0.7104302644729614\n",
            "    score: -0.7104302644729614\n",
            "  }\n",
            "  contexts {\n",
            "    source_uri: \"gs://cloud-samples-data/gen-app-builder/search/cymbal-bank-employee/Cymbal Bank New Employee Guide.pdf\"\n",
            "    text: \"Tools to get familiar with\\r\\n\\342\\227\\217 Cymbal Drive: Our internal communication tool.\\r\\n\\342\\227\\217 Cymbal Expense: Our expense tracking tool.\\r\\n\\342\\227\\217 Cymbal Fly: Our travel booking tool.\\r\\n\\342\\227\\217 Cymbal Stay: Our hotel booking tool.\\r\\n\\342\\227\\217 Cymbal Work: Our project management tool.\\r\\nCompany culture\\r\\nCymbal Bank is a fast-paced, results-oriented company. We are always looking for ways to improve and innovate.\\r\\nWe value collaboration, communication, and teamwork.Getting your badge\\r\\nYou will be given your badge on your first day. You will need to wear your badge at all times while you are in the\\r\\noffice.\\r\\nLocation of office\\r\\nThe Cymbal Bank office is located at 123 Main Street, Anytown, CA 91234.\\r\\nHybrid work policy\\r\\nCymbal Bank is a hybrid work company. This means that employees have the option to work from home or in the\\r\\noffice. Employees who choose to work from home must have a dedicated workspace that is free from distractions.\\r\\nAccessing employee gym\\r\\nThe Cymbal Bank gym is located on the 10th floor of the office building. Employees must have a valid employee\\r\\nbadge to access the gym.\\r\\nGetting tech support\\r\\nIf you have any problems with your computer or phone, please contact the IT department at 1-800-555-1212.\"\n",
            "    distance: -0.6768989562988281\n",
            "    score: -0.6768989562988281\n",
            "  }\n",
            "  contexts {\n",
            "    source_uri: \"gs://cloud-samples-data/gen-app-builder/search/cymbal-bank-employee/Cymbal Bank Founding Story.pdf\"\n",
            "    text: \"Cymbal Bank Founding Story\\r\\nWritten July 12, 2020\\r\\nAuthored by Lewis Cymbal, Founder & CEO\\r\\nLewis Cymbal founded Cymbal Bank in 1992 in a small office in downtown Los Angeles. The bank quickly grew, and\\r\\nby 2000, it had 10 branches across the city. In 2005, Cymbal Bank was acquired by a larger bank, but Lewis\\r\\nremained CEO of the combined bank.\\r\\nLewis was excited about the acquisition, as it would allow Cymbal Bank to expand its reach and offer its customers\\r\\nmore services. He also saw it as an opportunity to create a more customer-friendly bank.\\r\\nOne of Lewis\\'s first priorities as CEO of the combined bank was to integrate the two banks. This was a challenging\\r\\ntask, as the two banks had different cultures and different ways of doing things. However, Lewis was able to\\r\\nsuccessfully integrate the two banks, and the combined bank is now one of the largest banks in the city.\\r\\nLewis has also been focused on expanding Cymbal Bank\\'s reach. The bank now has branches in several cities\\r\\nacross the country, and it is planning to expand into new markets. Lewis is confident that Cymbal Bank will\\r\\ncontinue to grow and succeed in the years to come.\"\n",
            "    distance: -0.6430139541625977\n",
            "    score: -0.6430139541625977\n",
            "  }\n",
            "  contexts {\n",
            "    source_uri: \"gs://cloud-samples-data/gen-app-builder/search/cymbal-bank-employee/Cymbal Bank Organizations & Roles.pdf\"\n",
            "    text: \"Cymbal Bank Organizations and Roles\\r\\nUpdated August 11, 2023\\r\\nAuthored by Lewis Cymbal, Founder & CEO\\r\\nOrganizations\\r\\n\\342\\227\\217 Cymbal Bank is a fictional bank that is headquartered in the United States. It has branches in Asia, Europe,\\r\\nLatin America, North America, and Oceania. Cymbal Bank is a full-service bank that offers a variety of\\r\\nproducts and services to its customers.\\r\\n\\342\\227\\217 Cymbal Bank (Asia) is the Asian branch of Cymbal Bank. It is headquartered in Hong Kong and has\\r\\nbranches in China, Japan, and South Korea. Cymbal Bank (Asia) offers a variety of products and services to\\r\\nits customers, including checking and savings accounts, loans, and investments.\\r\\n\\342\\227\\217 Cymbal Bank (Europe) is the European branch of Cymbal Bank. It is headquartered in London and has\\r\\nbranches in France, Germany, and Italy. Cymbal Bank (Europe) offers a variety of products and services to\\r\\nits customers, including checking and savings accounts, loans, and investments.\\r\\n\\342\\227\\217 Cymbal Bank (Latin America) is the Latin American branch of Cymbal Bank. It is headquartered in Mexico\\r\\nCity and has branches in Argentina, Brazil, and Colombia. Cymbal Bank (Latin America) offers a variety of\\r\\nproducts and services to its customers, including checking and savings accounts, loans, and investments.\\r\\n\\342\\227\\217 Cymbal Bank (North America) is the North American branch of Cymbal Bank. It is headquartered in New\\r\\nYork City and has branches in Canada and the United States. Cymbal Bank (North America) offers a variety\\r\\nof products and services to its customers, including checking and savings accounts, loans, and\\r\\ninvestments.\\r\\n\\342\\227\\217 Cymbal Bank (Oceania) is the Oceanian branch of Cymbal Bank. It is headquartered in Sydney and has\\r\\nbranches in Australia and New Zealand. Cymbal Bank (Oceania) offers a variety of products and services to\\r\\nits customers, including checking and savings accounts, loans, and investments.\\r\\nJob Titles\\r\\nAccountant\\r\\nThe Accountant at Cymbal Bank is responsible for maintaining accurate financial records, preparing financial\\r\\nstatements, and ensuring compliance with accounting standards and regulations.\"\n",
            "    distance: -0.6339029669761658\n",
            "    score: -0.6339029669761658\n",
            "  }\n",
            "  contexts {\n",
            "    source_uri: \"gs://cloud-samples-data/gen-app-builder/search/cymbal-bank-employee/Cymbal Bank Organizations & Roles.pdf\"\n",
            "    text: \"Job Titles\\r\\nAccountant\\r\\nThe Accountant at Cymbal Bank is responsible for maintaining accurate financial records, preparing financial\\r\\nstatements, and ensuring compliance with accounting standards and regulations. They play a critical role in managing\\r\\nfinancial data and providing insights to aid decision-making.\\r\\nAdministrative Assistant\\r\\nThe Administrative Assistant provides essential support to various departments within Cymbal Bank. They handle\\r\\nadministrative tasks, manage schedules, coordinate meetings, and assist in maintaining smooth operations across the\\r\\norganization.\\r\\nAnalyst\\r\\nAnalysts at Cymbal Bank analyze data, market trends, and customer behavior to provide valuable insights for informed\\r\\ndecision-making. They collaborate with different teams to assess opportunities, risks, and performance metrics.\\r\\nArchitect\\r\\nThe Architect designs and oversees the implementation of technological solutions for Cymbal Bank. They create and\\r\\nmaintain the bank\\'s IT architecture, ensuring systems are scalable, secure, and aligned with business goals.Assistant Manager\\r\\nThe Assistant Manager supports departmental managers in various aspects of operations, including team\\r\\nmanagement, project coordination, and process optimization. They contribute to efficient workflows and effective\\r\\ncommunication.\\r\\nBanker\\r\\nBankers at Cymbal Bank manage customer relationships, offer financial advice, and provide personalized banking\\r\\nsolutions. They assist customers with their banking needs, from account management to financial planning.\\r\\nBank Manager\\r\\nThe Bank Manager oversees the operations of a Cymbal Bank branch. They ensure excellent customer service, efficient\\r\\nbanking processes, and adherence to regulatory guidelines, while also driving business growth.\\r\\nBranch Manager\\r\\nThe Branch Manager leads the daily operations of a specific Cymbal Bank branch. They manage staff, maintain\\r\\ncustomer satisfaction, and collaborate with other departments to achieve branch goals.\\r\\nBroker\\r\\nBrokers at Cymbal Bank facilitate financial transactions and provide investment advice to clients. They help clients\\r\\nmake informed decisions about buying, selling, and managing various financial assets.\\r\\nBusiness Analyst\\r\\nBusiness Analysts study business processes, identify opportunities for improvement, and recommend solutions to\\r\\nenhance efficiency and effectiveness at Cymbal Bank. They bridge the gap between technology and business needs.\\r\\nBusiness Development Manager\\r\\nThe Business Development Manager is responsible for identifying growth opportunities, building strategic partnerships,\\r\\nand expanding Cymbal Bank\\'s customer base. They play a pivotal role in shaping the bank\\'s future.\"\n",
            "    distance: -0.6320236921310425\n",
            "    score: -0.6320236921310425\n",
            "  }\n",
            "  contexts {\n",
            "    source_uri: \"gs://cloud-samples-data/gen-app-builder/search/cymbal-bank-employee/Cymbal Bank Organizations & Roles.pdf\"\n",
            "    text: \"They optimize financial\\r\\nresources and ensure compliance with treasury policies.\\r\\nUnderwriter\\r\\nUnderwriters evaluate and assess risks associated with loans, insurance policies, and other financial products at\\r\\nCymbal Bank. They determine terms, conditions, and eligibility.\\r\\nVice President\\r\\nVice Presidents at Cymbal Bank hold leadership positions responsible for specific departments or functions. They\\r\\nprovide strategic direction, manage teams, and contribute to overall organizational success.\\r\\nWealth Management Advisor\\r\\nWealth Management Advisors offer comprehensive financial advice to high-net-worth clients at Cymbal Bank. They\\r\\nprovide customized strategies for investment, estate planning, and wealth preservation.\\r\\nWeb Developer\\r\\nWeb Developers create and maintain websites and web applications for Cymbal Bank. They design user-friendly\\r\\ninterfaces, ensure functionality, and contribute to an engaging online presence.\\r\\nWeb Designer\\r\\nWeb Designers focus on the visual and aesthetic aspects of Cymbal Bank\\'s websites and online platforms. They create\\r\\nengaging designs that enhance user experience and brand identity.\\r\\nWebmaster\\r\\nWebmasters oversee the maintenance and updates of Cymbal Bank\\'s websites. They ensure content is accurate, up to\\r\\ndate, and aligns with the bank\\'s online presence.\"\n",
            "    distance: -0.6251685619354248\n",
            "    score: -0.6251685619354248\n",
            "  }\n",
            "  contexts {\n",
            "    source_uri: \"gs://cloud-samples-data/gen-app-builder/search/cymbal-bank-employee/Cymbal Bank Organizations & Roles.pdf\"\n",
            "    text: \"Business Development Manager\\r\\nThe Business Development Manager is responsible for identifying growth opportunities, building strategic partnerships,\\r\\nand expanding Cymbal Bank\\'s customer base. They play a pivotal role in shaping the bank\\'s future.\\r\\nBusiness Intelligence Analyst\\r\\nBusiness Intelligence Analysts gather and analyze data to provide actionable insights that drive informed business\\r\\ndecisions at Cymbal Bank. They create reports, dashboards, and data visualizations to support various teams.\\r\\nBusiness Process Analyst\\r\\nBusiness Process Analysts evaluate and optimize workflows and processes at Cymbal Bank. They collaborate with\\r\\nteams to streamline operations, enhance productivity, and align processes with business goals.\\r\\nCall Center Representative\\r\\nCall Center Representatives provide customer support and assistance over the phone. They address inquiries, resolve\\r\\nissues, and ensure positive customer experiences with Cymbal Bank\\'s services.\\r\\nCashier\\r\\nCashiers handle financial transactions, including deposits, withdrawals, and account inquiries, at Cymbal Bank\\r\\nbranches. They provide accurate and efficient service while maintaining cash handling standards.\\r\\nChief Financial Officer (CFO)\\r\\nThe CFO oversees Cymbal Bank\\'s financial strategy, planning, and reporting. They ensure financial stability, risk\\r\\nmanagement, and effective resource allocation to achieve the bank\\'s objectives.\\r\\nChief Information Officer (CIO)The CIO leads the technology strategy at Cymbal Bank, overseeing IT operations, infrastructure, and innovation. They\\r\\nalign technology initiatives with the bank\\'s business goals.\\r\\nChief Risk Officer (CRO)\\r\\nThe CRO manages and mitigates risks associated with Cymbal Bank\\'s operations. They develop risk management\\r\\nstrategies, policies, and controls to ensure the bank\\'s financial safety.\\r\\nChief Technology Officer (CTO)\\r\\nThe CTO is responsible for Cymbal Bank\\'s technology vision and direction. They lead the development of technological\\r\\nsolutions that enhance the bank\\'s services, security, and efficiency.\\r\\nClient Relationship Manager\\r\\nClient Relationship Managers at Cymbal Bank build and maintain strong relationships with clients, understanding their\\r\\nfinancial needs and offering tailored solutions to help them achieve their goals.\\r\\nCloud Engineer\\r\\nCloud Engineers design, implement, and manage cloud-based solutions for Cymbal Bank\\'s IT infrastructure. They\\r\\nensure the security, scalability, and reliability of cloud services.\\r\\nCloud Architect\\r\\nCloud Architects create the overall structure of Cymbal Bank\\'s cloud computing environment.\"\n",
            "    distance: -0.6178042888641357\n",
            "    score: -0.6178042888641357\n",
            "  }\n",
            "  contexts {\n",
            "    source_uri: \"gs://cloud-samples-data/gen-app-builder/search/cymbal-bank-employee/Cymbal Bank Organizations & Roles.pdf\"\n",
            "    text: \"They provide\\r\\ninsights that guide investment decisions and strategic planning.\\r\\nFinancial Accountant\\r\\nFinancial Accountants manage financial transactions, reporting, and compliance at Cymbal Bank. They ensure accurate\\r\\nrecording of financial data and adherence to accounting standards.\\r\\nFinancial Advisor\\r\\nFinancial Advisors at Cymbal Bank offer expert guidance to clients on managing their finances and achieving their\\r\\nfinancial goals. They provide personalized strategies for investments, retirement planning, and wealth management.\\r\\nFinancial Planner\\r\\nFinancial Planners create comprehensive financial plans for clients at Cymbal Bank. They consider various aspects of a\\r\\nclient\\'s financial situation to develop strategies that align with their objectives.\\r\\nFront Desk Clerk\\r\\nFront Desk Clerks provide welcoming and efficient service to customers visiting Cymbal Bank branches. They assist\\r\\nwith inquiries, direct customers, and contribute to a positive first impression.\\r\\nHuman Resources Manager\\r\\nThe Human Resources Manager oversees HR operations at Cymbal Bank. They manage recruitment, employee\\r\\nrelations, training, and ensure compliance with HR policies and regulations.\\r\\nInformation Technology Analyst\\r\\nIT Analysts assess and address Cymbal Bank\\'s technology needs. They analyze requirements, recommend solutions,\\r\\nand support the implementation of IT projects.\\r\\nInformation Technology Manager\\r\\nIT Managers lead Cymbal Bank\\'s IT department, overseeing technology initiatives, infrastructure, and support services.\\r\\nThey align IT strategies with business objectives.\\r\\nInformation Technology Specialist\\r\\nIT Specialists provide technical support and troubleshoot technology issues at Cymbal Bank. They ensure the smooth\\r\\noperation of IT systems and assist users with technical inquiries.\\r\\nInsurance Sales RepresentativeInsurance Sales Representatives at Cymbal Bank sell insurance products to customers. They assess clients\\' needs,\\r\\nexplain coverage options, and help clients make informed decisions.\\r\\nInternal Auditor\\r\\nInternal Auditors ensure compliance and assess the effectiveness of internal controls at Cymbal Bank. They help\\r\\nidentify areas for improvement and promote transparency and accountability.\\r\\nInvestor Relations Manager\\r\\nThe Investor Relations Manager at Cymbal Bank communicates with shareholders and investors. They provide financial\\r\\nupdates, manage relationships, and facilitate transparent communication.\\r\\nMarketing Manager\\r\\nMarketing Managers develop and execute marketing strategies at Cymbal Bank. They promote the bank\\'s products and\\r\\nservices, manage campaigns, and contribute to brand growth.\\r\\nMarketing Specialist\\r\\nMarketing Specialists support marketing efforts at Cymbal Bank.\"\n",
            "    distance: -0.6175665855407715\n",
            "    score: -0.6175665855407715\n",
            "  }\n",
            "}\n",
            "\n"
          ]
        }
      ]
    },
    {
      "cell_type": "markdown",
      "source": [
        "### Cleanup"
      ],
      "metadata": {
        "id": "qTeniRzEbytZ"
      }
    },
    {
      "cell_type": "code",
      "source": [
        "# rag.delete_corpus(rag_corpus.name)"
      ],
      "metadata": {
        "id": "fSP8wGnzcIrE",
        "colab": {
          "base_uri": "https://localhost:8080/"
        },
        "outputId": "f88332b7-2892-4eb8-f573-ec01b532bf4d"
      },
      "execution_count": 40,
      "outputs": [
        {
          "output_type": "stream",
          "name": "stdout",
          "text": [
            "Successfully deleted the RagCorpus.\n"
          ]
        }
      ]
    }
  ],
  "metadata": {
    "colab": {
      "name": "vertexai_rag_engine_api.ipynb",
      "provenance": []
    },
    "kernelspec": {
      "display_name": "Python 3",
      "name": "python3"
    }
  },
  "nbformat": 4,
  "nbformat_minor": 0
}