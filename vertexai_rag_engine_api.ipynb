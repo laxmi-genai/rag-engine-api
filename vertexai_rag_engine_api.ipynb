{
  "cells": [
    {
      "cell_type": "code",
      "execution_count": 1,
      "metadata": {
        "id": "ur8xi4C7S06n",
        "executionInfo": {
          "status": "ok",
          "timestamp": 1734413000276,
          "user_tz": 480,
          "elapsed": 2,
          "user": {
            "displayName": "",
            "userId": ""
          }
        }
      },
      "outputs": [],
      "source": [
        "# Copyright 2024 Google LLC\n",
        "#\n",
        "# Licensed under the Apache License, Version 2.0 (the \"License\");\n",
        "# you may not use this file except in compliance with the License.\n",
        "# You may obtain a copy of the License at\n",
        "#\n",
        "#     https://www.apache.org/licenses/LICENSE-2.0\n",
        "#\n",
        "# Unless required by applicable law or agreed to in writing, software\n",
        "# distributed under the License is distributed on an \"AS IS\" BASIS,\n",
        "# WITHOUT WARRANTIES OR CONDITIONS OF ANY KIND, either express or implied.\n",
        "# See the License for the specific language governing permissions and\n",
        "# limitations under the License."
      ]
    },
    {
      "cell_type": "markdown",
      "metadata": {
        "id": "JAPoU8Sm5E6e"
      },
      "source": [
        "# Build with RAG Engine in Vertex AI"
      ]
    },
    {
      "cell_type": "markdown",
      "metadata": {
        "id": "84f0f73a0f76"
      },
      "source": [
        "| | |\n",
        "|-|-|\n",
        "| Author(s) | [Laxmi Harikumar](https://github.com/laxmih-genai) |"
      ]
    },
    {
      "cell_type": "markdown",
      "metadata": {
        "id": "tvgnzT1CKxrO"
      },
      "source": [
        "## Overview\n",
        "\n",
        "**Retrieval Augmented Generation (RAG)** improves large language models by allowing them to access and process external information sources during generation. This ensures the model's responses are grounded in factual data and avoids hallucinations.\n",
        "\n",
        "RAG Engine API\n",
        "\n",
        "\n",
        "\n",
        "For more information, refer to the public documentation for [Vertex AI RAG Engine](https://cloud.google.com/vertex-ai/generative-ai/docs/rag-overview).\n",
        "\n",
        "This notebook aims at providing a hands on tutorial for RAG Engine API with the following steps.\n",
        "\n",
        "Part 1: Use default managed Vector Db\n",
        "- Create a RAG corpus by specifying an embedding model and vector database\n",
        "- Upload a local PDF file to the corpus\n",
        "- Import a scanned PDF (This requires creating Document AI Layout Parser)\n",
        "- Set up a retrieval tool\n",
        "- Use your RAG retrieval tool to add context to  Gemini's responses to user queries\n",
        "\n",
        "Part 2: Use Vertex AI Vector Search\n",
        "- Set up Vertex AI Vector SearchImport Alphabet PDFs from gs://cloud-samples-data/gen-app-builder/search/alphabet-investor-pdfs\n",
        "- Set up a retrieval tool\n",
        "- Use your RAG retrieval tool to add context to  Gemini's responses to user queries\n",
        "\n",
        "- Clean up\n",
        "  Delete the corpus\n"
      ]
    },
    {
      "cell_type": "markdown",
      "metadata": {
        "id": "61RBz8LLbxCR"
      },
      "source": [
        "## Get started"
      ]
    },
    {
      "cell_type": "markdown",
      "metadata": {
        "id": "No17Cw5hgx12"
      },
      "source": [
        "### Install Vertex AI SDK and other required packages\n"
      ]
    },
    {
      "cell_type": "code",
      "execution_count": 2,
      "metadata": {
        "id": "tFy3H3aPgx12",
        "executionInfo": {
          "status": "ok",
          "timestamp": 1734413011339,
          "user_tz": 480,
          "elapsed": 5722,
          "user": {
            "displayName": "",
            "userId": ""
          }
        }
      },
      "outputs": [],
      "source": [
        "%pip install --upgrade --user --quiet google-cloud-aiplatform google-cloud-documentai google-cloud-discoveryengine"
      ]
    },
    {
      "cell_type": "markdown",
      "metadata": {
        "id": "R5Xep4W9lq-Z"
      },
      "source": [
        "### Restart runtime\n",
        "\n",
        "To use the newly installed packages in this Jupyter runtime, you must restart the runtime. You can do this by running the cell below, which restarts the current kernel.\n",
        "\n",
        "The restart might take a minute or longer. After it's restarted, continue to the next step."
      ]
    },
    {
      "cell_type": "code",
      "execution_count": 3,
      "metadata": {
        "id": "XRvKdaPDTznN",
        "colab": {
          "base_uri": "https://localhost:8080/"
        },
        "executionInfo": {
          "status": "ok",
          "timestamp": 1734413011339,
          "user_tz": 480,
          "elapsed": 3,
          "user": {
            "displayName": "",
            "userId": ""
          }
        },
        "outputId": "475c5f33-30cd-4442-99f0-9db091736e4e"
      },
      "outputs": [
        {
          "output_type": "execute_result",
          "data": {
            "text/plain": [
              "{'status': 'ok', 'restart': True}"
            ]
          },
          "metadata": {},
          "execution_count": 3
        }
      ],
      "source": [
        "import IPython\n",
        "\n",
        "app = IPython.Application.instance()\n",
        "app.kernel.do_shutdown(True)"
      ]
    },
    {
      "cell_type": "markdown",
      "metadata": {
        "id": "SbmM4z7FOBpM"
      },
      "source": [
        "<div class=\"alert alert-block alert-warning\">\n",
        "<b>⚠️ The kernel is going to restart. Wait until it's finished before continuing to the next step. ⚠️</b>\n",
        "</div>\n"
      ]
    },
    {
      "cell_type": "markdown",
      "metadata": {
        "id": "dmWOrTJ3gx13"
      },
      "source": [
        "### Authenticate your notebook environment (Colab only)\n",
        "\n",
        "If you're running this notebook on Google Colab, run the cell below to authenticate your environment."
      ]
    },
    {
      "cell_type": "code",
      "execution_count": 1,
      "metadata": {
        "id": "NyKGtVQjgx13",
        "executionInfo": {
          "status": "ok",
          "timestamp": 1734413016870,
          "user_tz": 480,
          "elapsed": 3,
          "user": {
            "displayName": "",
            "userId": ""
          }
        }
      },
      "outputs": [],
      "source": [
        "import sys\n",
        "\n",
        "if \"google.colab\" in sys.modules:\n",
        "    from google.colab import auth\n",
        "\n",
        "    auth.authenticate_user()"
      ]
    },
    {
      "cell_type": "markdown",
      "metadata": {
        "id": "DF4l8DTdWgPY"
      },
      "source": [
        "### Set Google Cloud project information and initialize Vertex AI SDK\n",
        "\n",
        "To get started using Vertex AI, you must have an existing Google Cloud project and [enable the Vertex AI API](https://console.cloud.google.com/flows/enableapi?apiid=aiplatform.googleapis.com).\n",
        "\n",
        "Learn more about [setting up a project and a development environment](https://cloud.google.com/vertex-ai/docs/start/cloud-environment)."
      ]
    },
    {
      "cell_type": "code",
      "execution_count": 2,
      "metadata": {
        "id": "Nqwi-5ufWp_B",
        "executionInfo": {
          "status": "ok",
          "timestamp": 1734413031940,
          "user_tz": 480,
          "elapsed": 4597,
          "user": {
            "displayName": "",
            "userId": ""
          }
        }
      },
      "outputs": [],
      "source": [
        "# Use the environment variable if the user doesn't provide Project ID.\n",
        "import os\n",
        "\n",
        "import vertexai\n",
        "\n",
        "PROJECT_ID = \"demos-vertex\"  # @param {type:\"string\", isTemplate: true}\n",
        "if PROJECT_ID == \"[your-project-id]\":\n",
        "    PROJECT_ID = str(os.environ.get(\"GOOGLE_CLOUD_PROJECT\"))\n",
        "\n",
        "LOCATION = os.environ.get(\"GOOGLE_CLOUD_REGION\", \"us-central1\")\n",
        "\n",
        "vertexai.init(project=PROJECT_ID, location=LOCATION)"
      ]
    },
    {
      "cell_type": "markdown",
      "metadata": {
        "id": "5303c05f7aa6"
      },
      "source": [
        "### Import libraries"
      ]
    },
    {
      "cell_type": "code",
      "execution_count": 30,
      "metadata": {
        "id": "6fc324893334",
        "executionInfo": {
          "status": "ok",
          "timestamp": 1734415871941,
          "user_tz": 480,
          "elapsed": 878,
          "user": {
            "displayName": "",
            "userId": ""
          }
        }
      },
      "outputs": [],
      "source": [
        "from IPython.display import Markdown\n",
        "from vertexai.preview import rag\n",
        "from vertexai.preview.generative_models import GenerativeModel, Tool\n",
        "\n",
        "from google.api_core.client_options import ClientOptions\n",
        "from google.api_core.exceptions import FailedPrecondition\n",
        "from google.cloud import documentai\n",
        "from google.api_core.exceptions import AlreadyExists\n",
        "\n",
        "from google.api_core.client_options import ClientOptions\n",
        "from google.cloud import discoveryengine"
      ]
    },
    {
      "cell_type": "markdown",
      "source": [
        "## PART 1\n",
        "\n",
        "Create a RAG Corpus by uploading a local file and a scanned document from GCS Bucket. Set up a retrieval tool and get responses to queries"
      ],
      "metadata": {
        "id": "hR2PnFDq-KyE"
      }
    },
    {
      "cell_type": "markdown",
      "source": [
        "### Helper functions"
      ],
      "metadata": {
        "id": "hmTcNkzULK0a"
      }
    },
    {
      "cell_type": "code",
      "source": [
        "def list_files_in_corpus(rag_corpus_name):\n",
        "  # List the files\n",
        "  files = rag.list_files(corpus_name=rag_corpus_name)\n",
        "  for file in files:\n",
        "      print(file.display_name)\n",
        "      print(file.name)"
      ],
      "metadata": {
        "id": "pMfy2BDYLMt7",
        "executionInfo": {
          "status": "ok",
          "timestamp": 1734413244691,
          "user_tz": 480,
          "elapsed": 213,
          "user": {
            "displayName": "",
            "userId": ""
          }
        }
      },
      "execution_count": 13,
      "outputs": []
    },
    {
      "cell_type": "markdown",
      "metadata": {
        "id": "e43229f3ad4f"
      },
      "source": [
        "### Create a RAG Corpus"
      ]
    },
    {
      "cell_type": "markdown",
      "source": [
        "Configure the Embedding model"
      ],
      "metadata": {
        "id": "NNNft_xYXAIw"
      }
    },
    {
      "cell_type": "code",
      "source": [
        "EMBEDDING_MODEL = \"text-embedding-004\"  # @param {type:\"string\", isTemplate: true}\n",
        "embedding_model_config = rag.EmbeddingModelConfig(publisher_model=f\"\"\"publishers/google/models/{EMBEDDING_MODEL}\"\"\")"
      ],
      "metadata": {
        "id": "1bROV9uoXFj9",
        "executionInfo": {
          "status": "ok",
          "timestamp": 1734413151713,
          "user_tz": 480,
          "elapsed": 205,
          "user": {
            "displayName": "",
            "userId": ""
          }
        }
      },
      "execution_count": 4,
      "outputs": []
    },
    {
      "cell_type": "code",
      "source": [
        "embedding_model_config"
      ],
      "metadata": {
        "id": "awlblHLjbyy3",
        "colab": {
          "base_uri": "https://localhost:8080/"
        },
        "executionInfo": {
          "status": "ok",
          "timestamp": 1734413153731,
          "user_tz": 480,
          "elapsed": 195,
          "user": {
            "displayName": "",
            "userId": ""
          }
        },
        "outputId": "ee5c0ef9-6a98-49a5-a5c6-4b84dbe217fb"
      },
      "execution_count": 5,
      "outputs": [
        {
          "output_type": "execute_result",
          "data": {
            "text/plain": [
              "EmbeddingModelConfig(publisher_model='publishers/google/models/text-embedding-004', endpoint=None, model=None, model_version_id=None)"
            ]
          },
          "metadata": {},
          "execution_count": 5
        }
      ]
    },
    {
      "cell_type": "code",
      "source": [
        "CORPUS_DISPLAY_NAME = \"rag-corpus-for-demo\""
      ],
      "metadata": {
        "id": "GrZjzthRYA0O",
        "executionInfo": {
          "status": "ok",
          "timestamp": 1734413216280,
          "user_tz": 480,
          "elapsed": 186,
          "user": {
            "displayName": "",
            "userId": ""
          }
        }
      },
      "execution_count": 8,
      "outputs": []
    },
    {
      "cell_type": "code",
      "execution_count": 9,
      "metadata": {
        "id": "cf93d5f0ce00",
        "executionInfo": {
          "status": "ok",
          "timestamp": 1734413225336,
          "user_tz": 480,
          "elapsed": 8228,
          "user": {
            "displayName": "",
            "userId": ""
          }
        }
      },
      "outputs": [],
      "source": [
        "rag_corpus = rag.create_corpus(\n",
        "    display_name=CORPUS_DISPLAY_NAME,\n",
        "    embedding_model_config=embedding_model_config\n",
        ")"
      ]
    },
    {
      "cell_type": "markdown",
      "metadata": {
        "id": "197c585b61b2"
      },
      "source": [
        "### Check the corpus just created"
      ]
    },
    {
      "cell_type": "code",
      "execution_count": 10,
      "metadata": {
        "id": "f229b13dc617",
        "colab": {
          "base_uri": "https://localhost:8080/"
        },
        "executionInfo": {
          "status": "ok",
          "timestamp": 1734413225708,
          "user_tz": 480,
          "elapsed": 386,
          "user": {
            "displayName": "",
            "userId": ""
          }
        },
        "outputId": "0b64d826-40e0-4a48-c00e-c4deb66fa1ab"
      },
      "outputs": [
        {
          "output_type": "execute_result",
          "data": {
            "text/plain": [
              "ListRagCorporaPager<rag_corpora {\n",
              "  name: \"projects/demos-vertex/locations/us-central1/ragCorpora/1873497444986126336\"\n",
              "  display_name: \"rag-corpus-for-demo\"\n",
              "  create_time {\n",
              "    seconds: 1734413222\n",
              "    nanos: 714518000\n",
              "  }\n",
              "  update_time {\n",
              "    seconds: 1734413222\n",
              "    nanos: 714518000\n",
              "  }\n",
              "  rag_embedding_model_config {\n",
              "    vertex_prediction_endpoint {\n",
              "      endpoint: \"projects/demos-vertex/locations/us-central1/publishers/google/models/text-embedding-004\"\n",
              "    }\n",
              "  }\n",
              "  rag_vector_db_config {\n",
              "    rag_managed_db {\n",
              "    }\n",
              "    rag_embedding_model_config {\n",
              "      vertex_prediction_endpoint {\n",
              "        endpoint: \"projects/demos-vertex/locations/us-central1/publishers/google/models/text-embedding-004\"\n",
              "      }\n",
              "    }\n",
              "  }\n",
              "  corpus_status {\n",
              "    state: ACTIVE\n",
              "  }\n",
              "  vector_db_config {\n",
              "    rag_managed_db {\n",
              "    }\n",
              "    rag_embedding_model_config {\n",
              "      vertex_prediction_endpoint {\n",
              "        endpoint: \"projects/demos-vertex/locations/us-central1/publishers/google/models/text-embedding-004\"\n",
              "      }\n",
              "    }\n",
              "  }\n",
              "}\n",
              ">"
            ]
          },
          "metadata": {},
          "execution_count": 10
        }
      ],
      "source": [
        "rag.list_corpora()"
      ]
    },
    {
      "cell_type": "markdown",
      "metadata": {
        "id": "c52924cc1440"
      },
      "source": [
        "### Upload a local file to the corpus"
      ]
    },
    {
      "cell_type": "code",
      "execution_count": 11,
      "metadata": {
        "id": "529390917c29",
        "executionInfo": {
          "status": "ok",
          "timestamp": 1734413238937,
          "user_tz": 480,
          "elapsed": 5895,
          "user": {
            "displayName": "",
            "userId": ""
          }
        }
      },
      "outputs": [],
      "source": [
        "rag_file = rag.upload_file(\n",
        "    corpus_name=rag_corpus.name,\n",
        "    path=\"/content/contents/veo-imagen-blog.pdf\",\n",
        "    display_name=\"veo-imagen-blog.pdf\",\n",
        "    description=\"Veo and Imagen3 announcement\",\n",
        ")"
      ]
    },
    {
      "cell_type": "code",
      "source": [
        "# Check if file is in corpus\n",
        "list_files_in_corpus(rag_corpus.name)"
      ],
      "metadata": {
        "colab": {
          "base_uri": "https://localhost:8080/"
        },
        "id": "XTJS9oFkruKz",
        "executionInfo": {
          "status": "ok",
          "timestamp": 1734413248512,
          "user_tz": 480,
          "elapsed": 371,
          "user": {
            "displayName": "",
            "userId": ""
          }
        },
        "outputId": "7674d3bd-d004-4c3e-de50-80e2bfd311d2"
      },
      "execution_count": 14,
      "outputs": [
        {
          "output_type": "stream",
          "name": "stdout",
          "text": [
            "veo-imagen-blog.pdf\n",
            "projects/756696270058/locations/us-central1/ragCorpora/1873497444986126336/ragFiles/5325940723548139623\n"
          ]
        }
      ]
    },
    {
      "cell_type": "markdown",
      "source": [
        "### Enable the DocumentAI API\n",
        "\n",
        "[RAG Engine supports DocumentAI's layout parser](https://cloud.google.com/vertex-ai/generative-ai/docs/layout-parser-integration) to extracts content elements (text, tables, lists) from documents for better information retrieval.\n",
        "\n",
        "To use the layour parser Document AI API has to be enabled.\n",
        "\n"
      ],
      "metadata": {
        "id": "BahyOqiFJy3U"
      }
    },
    {
      "cell_type": "code",
      "source": [
        "!gcloud config set project demos-vertex\n",
        "!gcloud services enable documentai.googleapis.com discoveryengine.googleapis.com"
      ],
      "metadata": {
        "colab": {
          "base_uri": "https://localhost:8080/"
        },
        "id": "ku0NmWd1J0nG",
        "executionInfo": {
          "status": "ok",
          "timestamp": 1734385137691,
          "user_tz": 480,
          "elapsed": 5614,
          "user": {
            "displayName": "",
            "userId": ""
          }
        },
        "outputId": "6d442bb0-d3bb-4aae-846d-5c335dc8b1f0"
      },
      "execution_count": null,
      "outputs": [
        {
          "output_type": "stream",
          "name": "stdout",
          "text": [
            "Updated property [core/project].\n",
            "Operation \"operations/acat.p2-756696270058-731ca9d5-923c-42f9-883c-8af4461f0246\" finished successfully.\n"
          ]
        }
      ]
    },
    {
      "cell_type": "markdown",
      "source": [
        "### Create a Document AI Layout Parser"
      ],
      "metadata": {
        "id": "gv5bkJPzIirK"
      }
    },
    {
      "cell_type": "code",
      "source": [
        "def create_parser_processor(\n",
        "    project_id: str, location: str, processor_display_name: str\n",
        ") -> documentai.Processor:\n",
        "    client = documentai.DocumentProcessorServiceClient(client_options=client_options)\n",
        "\n",
        "    # The full resource name of the location\n",
        "    # e.g.: projects/project_id/locations/location\n",
        "    parent = client.common_location_path(project_id, location)\n",
        "\n",
        "    # Create a processor\n",
        "    return client.create_processor(\n",
        "        parent=parent,\n",
        "        processor=documentai.Processor(\n",
        "            display_name=processor_display_name, type_=\"LAYOUT_PARSER_PROCESSOR\"\n",
        "        ),\n",
        "    )"
      ],
      "metadata": {
        "id": "rhnCjktGHhVu",
        "executionInfo": {
          "status": "ok",
          "timestamp": 1734413808371,
          "user_tz": 480,
          "elapsed": 211,
          "user": {
            "displayName": "",
            "userId": ""
          }
        }
      },
      "execution_count": 16,
      "outputs": []
    },
    {
      "cell_type": "code",
      "source": [
        "# See https://cloud.google.com/document-ai/docs/regions for all options.\n",
        "parser_location = \"us\"\n",
        "\n",
        "# Must be unique per project\n",
        "parser_display_name = \"rag-engine-demo-processor\"\n",
        "\n",
        "# Set the `api_endpoint`\n",
        "client_options = ClientOptions(api_endpoint=f\"{parser_location}-documentai.googleapis.com\")\n",
        "\n",
        "\n",
        "try:\n",
        "    processor = create_parser_processor(PROJECT_ID, parser_location, parser_display_name)\n",
        "    print(f\"Created Processor {processor.name}\")\n",
        "except AlreadyExists as e:\n",
        "    print(\n",
        "        f\"Processor already exits, change the processor name and rerun this code. {e.message}\"\n",
        "    )\n"
      ],
      "metadata": {
        "colab": {
          "base_uri": "https://localhost:8080/"
        },
        "id": "hMnVGuk2AxaO",
        "executionInfo": {
          "status": "ok",
          "timestamp": 1734413818595,
          "user_tz": 480,
          "elapsed": 223,
          "user": {
            "displayName": "",
            "userId": ""
          }
        },
        "outputId": "699007cd-7e02-45cc-c6ac-189c22a614cd"
      },
      "execution_count": 17,
      "outputs": [
        {
          "output_type": "stream",
          "name": "stdout",
          "text": [
            "Created Processor projects/756696270058/locations/us/processors/7c5f97532d9e1f3\n"
          ]
        }
      ]
    },
    {
      "cell_type": "code",
      "source": [
        "layout_parser_processor_name = processor.name"
      ],
      "metadata": {
        "id": "o3Vq8LIsA46P",
        "executionInfo": {
          "status": "ok",
          "timestamp": 1734413914946,
          "user_tz": 480,
          "elapsed": 216,
          "user": {
            "displayName": "",
            "userId": ""
          }
        }
      },
      "execution_count": 19,
      "outputs": []
    },
    {
      "cell_type": "markdown",
      "source": [
        "### Import a scanned document"
      ],
      "metadata": {
        "id": "Sw99AUPeH7Y5"
      }
    },
    {
      "cell_type": "code",
      "source": [
        "INPUT_GCS_BUCKET = \"gs://rag-agent-demo/\"\n",
        "\n",
        "response = rag.import_files(\n",
        "    corpus_name=rag_corpus.name,\n",
        "    paths=[INPUT_GCS_BUCKET],\n",
        "    chunk_size=512,  # Optional\n",
        "    chunk_overlap=100,  # Optional\n",
        "    max_embedding_requests_per_min=900,  # Optional\n",
        "\n",
        "    layout_parser=rag.LayoutParserConfig(\n",
        "        processor_name=layout_parser_processor_name,\n",
        "        max_parsing_requests_per_min=120,  # Optional\n",
        "    )\n",
        ")\n",
        "print(f\"Imported {response.imported_rag_files_count} files.\")"
      ],
      "metadata": {
        "colab": {
          "base_uri": "https://localhost:8080/"
        },
        "id": "XNoEIxzJHwcP",
        "executionInfo": {
          "status": "ok",
          "timestamp": 1734413922839,
          "user_tz": 480,
          "elapsed": 6962,
          "user": {
            "displayName": "",
            "userId": ""
          }
        },
        "outputId": "a450cf4b-d514-4525-aed9-c8e0505f7075"
      },
      "execution_count": 20,
      "outputs": [
        {
          "output_type": "stream",
          "name": "stdout",
          "text": [
            "Imported 1 files.\n"
          ]
        }
      ]
    },
    {
      "cell_type": "code",
      "source": [
        "# List the files in the corpus\n",
        "list_files_in_corpus(rag_corpus.name)"
      ],
      "metadata": {
        "colab": {
          "base_uri": "https://localhost:8080/"
        },
        "id": "4ObXyheZIJrt",
        "executionInfo": {
          "status": "ok",
          "timestamp": 1734414009179,
          "user_tz": 480,
          "elapsed": 404,
          "user": {
            "displayName": "",
            "userId": ""
          }
        },
        "outputId": "52705e18-d31c-436b-ed10-ed10964dfbab"
      },
      "execution_count": 22,
      "outputs": [
        {
          "output_type": "stream",
          "name": "stdout",
          "text": [
            "veo-imagen-blog.pdf\n",
            "projects/756696270058/locations/us-central1/ragCorpora/1873497444986126336/ragFiles/5325940723548139623\n",
            "contract_1.pdf\n",
            "projects/756696270058/locations/us-central1/ragCorpora/1873497444986126336/ragFiles/5325946455892971992\n"
          ]
        }
      ]
    },
    {
      "cell_type": "markdown",
      "metadata": {
        "id": "79ea89661842"
      },
      "source": [
        "### Create RAG Retrieval Tool"
      ]
    },
    {
      "cell_type": "code",
      "execution_count": 23,
      "metadata": {
        "id": "0ebceac3d816",
        "executionInfo": {
          "status": "ok",
          "timestamp": 1734414020059,
          "user_tz": 480,
          "elapsed": 242,
          "user": {
            "displayName": "",
            "userId": ""
          }
        }
      },
      "outputs": [],
      "source": [
        "# Create a tool for the RAG Corpus\n",
        "rag_retrieval_tool = Tool.from_retrieval(\n",
        "    retrieval=rag.Retrieval(\n",
        "        source=rag.VertexRagStore(\n",
        "            rag_corpora=[rag_corpus.name],\n",
        "            similarity_top_k=2,\n",
        "            vector_distance_threshold=0.5,\n",
        "        ),\n",
        "    )\n",
        ")"
      ]
    },
    {
      "cell_type": "markdown",
      "metadata": {
        "id": "d88fa7ede853"
      },
      "source": [
        "### Generate Content with Gemini using Rag Retrieval Tool"
      ]
    },
    {
      "cell_type": "code",
      "execution_count": 25,
      "metadata": {
        "id": "8dd928baecd4",
        "executionInfo": {
          "status": "ok",
          "timestamp": 1734414034577,
          "user_tz": 480,
          "elapsed": 202,
          "user": {
            "displayName": "",
            "userId": ""
          }
        }
      },
      "outputs": [],
      "source": [
        "# Load tool into Gemini model\n",
        "rag_gemini_model = GenerativeModel(\n",
        "    \"gemini-1.5-flash-002\",\n",
        "    tools=[rag_retrieval_tool]\n",
        ")"
      ]
    },
    {
      "cell_type": "markdown",
      "source": [
        "Question from the uploaded file"
      ],
      "metadata": {
        "id": "fAMiHymF9u2E"
      }
    },
    {
      "cell_type": "code",
      "execution_count": 26,
      "metadata": {
        "id": "124b36be8d5b",
        "colab": {
          "base_uri": "https://localhost:8080/",
          "height": 64
        },
        "executionInfo": {
          "status": "ok",
          "timestamp": 1734414036778,
          "user_tz": 480,
          "elapsed": 1334,
          "user": {
            "displayName": "",
            "userId": ""
          }
        },
        "outputId": "24286ac8-9f69-45a3-8641-5a002a7a531a"
      },
      "outputs": [
        {
          "output_type": "display_data",
          "data": {
            "text/plain": [
              "<IPython.core.display.Markdown object>"
            ],
            "text/markdown": "Google's most advanced video generation model is Veo.  It generates high-quality, high-definition videos from text or image prompts, offering a range of cinematic and visual styles.  Veo is available on Vertex AI in private preview.\n"
          },
          "metadata": {}
        }
      ],
      "source": [
        "response = rag_gemini_model.generate_content(\"What is Google's video generation model?\")\n",
        "\n",
        "display(Markdown(response.text))"
      ]
    },
    {
      "cell_type": "markdown",
      "source": [
        "Question from the scanned PDF"
      ],
      "metadata": {
        "id": "HBvehn5u9hy7"
      }
    },
    {
      "cell_type": "code",
      "source": [
        "response = rag_gemini_model.generate_content(\"What is the price per unit of the office supplies\")\n",
        "display(Markdown(response.text))"
      ],
      "metadata": {
        "colab": {
          "base_uri": "https://localhost:8080/",
          "height": 46
        },
        "id": "cymu3GYi8nXy",
        "executionInfo": {
          "status": "ok",
          "timestamp": 1734414047214,
          "user_tz": 480,
          "elapsed": 1114,
          "user": {
            "displayName": "",
            "userId": ""
          }
        },
        "outputId": "de2b25ab-e4ea-4ed3-e386-a3f96df022d1"
      },
      "execution_count": 27,
      "outputs": [
        {
          "output_type": "display_data",
          "data": {
            "text/plain": [
              "<IPython.core.display.Markdown object>"
            ],
            "text/markdown": "The price per unit of the office supplies is $15.00.\n"
          },
          "metadata": {}
        }
      ]
    },
    {
      "cell_type": "markdown",
      "source": [
        "### Clean up - Delete the corpus"
      ],
      "metadata": {
        "id": "CQYGmuyxar1R"
      }
    },
    {
      "cell_type": "code",
      "source": [
        "rag.delete_corpus(rag_corpus.name)"
      ],
      "metadata": {
        "colab": {
          "base_uri": "https://localhost:8080/"
        },
        "id": "d8MIBFeFa2Th",
        "executionInfo": {
          "status": "ok",
          "timestamp": 1734414066821,
          "user_tz": 480,
          "elapsed": 627,
          "user": {
            "displayName": "",
            "userId": ""
          }
        },
        "outputId": "4ce3d47f-4865-460f-cef5-5549eaa896a2"
      },
      "execution_count": 29,
      "outputs": [
        {
          "output_type": "stream",
          "name": "stdout",
          "text": [
            "Successfully deleted the RagCorpus.\n"
          ]
        }
      ]
    },
    {
      "cell_type": "markdown",
      "source": [
        "# Part 2: Using Vertex AI RAG Engine with Vertex AI Search"
      ],
      "metadata": {
        "id": "SMO_YQjoYRTv"
      }
    },
    {
      "cell_type": "markdown",
      "source": [
        "\n",
        "Part 2 of this tutorial explores using [Vertex AI RAG Engine](https://cloud.google.com/vertex-ai/generative-ai/docs/rag-overview) with [Vertex AI Search](https://cloud.google.com/enterprise-search) as a retrieval backend. Vertex AI Search's ability to handle large datasets, provide low-latency retrieval, and improve scalability makes it a powerful tool for enhancing RAG applications.\n",
        "\n",
        "- To start using Vertex AI Search, [enable the Discovery Engine API](https://console.cloud.google.com/apis/enableflow?apiid=discoveryengine.googleapis.com&inv=1&invt=AbkVrw&project=demos-vertex).\n",
        "- To setup your Vertex AI Search, a set of helper functions are defined\n",
        "  - create a Datastore\n",
        "  - import documents into it\n",
        "  - create a search engine\n",
        "\n",
        "Skip the helper functions section and set up Vertex AI Search section if you already have a Vertex AI Search engine ready to use."
      ],
      "metadata": {
        "id": "oGCZ03F6YUSo"
      }
    },
    {
      "cell_type": "markdown",
      "source": [
        "### Helper Functions"
      ],
      "metadata": {
        "id": "vWyO92t9PlAT"
      }
    },
    {
      "cell_type": "code",
      "source": [
        "## Create the Datastore\n",
        "def create_data_store(\n",
        "    project_id: str, location: str, data_store_name: str, data_store_id: str\n",
        "):\n",
        "    # Create a client\n",
        "    client_options = (\n",
        "        ClientOptions(api_endpoint=f\"{location}-discoveryengine.googleapis.com\")\n",
        "        if location != \"global\"\n",
        "        else None\n",
        "    )\n",
        "    client = discoveryengine.DataStoreServiceClient(client_options=client_options)\n",
        "\n",
        "    # Initialize request argument(s)\n",
        "    data_store = discoveryengine.DataStore(\n",
        "        display_name=data_store_name,\n",
        "        industry_vertical=discoveryengine.IndustryVertical.GENERIC,\n",
        "        content_config=discoveryengine.DataStore.ContentConfig.CONTENT_REQUIRED,\n",
        "    )\n",
        "\n",
        "    operation = client.create_data_store(\n",
        "        request=discoveryengine.CreateDataStoreRequest(\n",
        "            parent=client.collection_path(project_id, location, \"default_collection\"),\n",
        "            data_store=data_store,\n",
        "            data_store_id=data_store_id,\n",
        "        )\n",
        "    )\n",
        "\n",
        "    # Make the request\n",
        "    response = operation.result(timeout=90)\n",
        "    return response.name"
      ],
      "metadata": {
        "id": "P8cnXkw8Yh2A",
        "executionInfo": {
          "status": "ok",
          "timestamp": 1734416516170,
          "user_tz": 480,
          "elapsed": 204,
          "user": {
            "displayName": "",
            "userId": ""
          }
        }
      },
      "execution_count": 33,
      "outputs": []
    },
    {
      "cell_type": "code",
      "source": [
        "## Import the documents\n",
        "\n",
        "def import_documents(\n",
        "    project_id: str,\n",
        "    location: str,\n",
        "    data_store_id: str,\n",
        "    gcs_uri: str,\n",
        "):\n",
        "    # Create a client\n",
        "    client_options = (\n",
        "        ClientOptions(api_endpoint=f\"{location}-discoveryengine.googleapis.com\")\n",
        "        if location != \"global\"\n",
        "        else None\n",
        "    )\n",
        "    client = discoveryengine.DocumentServiceClient(client_options=client_options)\n",
        "\n",
        "    # The full resource name of the search engine branch.\n",
        "    # e.g. projects/{project}/locations/{location}/dataStores/{data_store_id}/branches/{branch}\n",
        "    parent = client.branch_path(\n",
        "        project=project_id,\n",
        "        location=location,\n",
        "        data_store=data_store_id,\n",
        "        branch=\"default_branch\",\n",
        "    )\n",
        "\n",
        "    source_documents = [f\"{gcs_uri}/*\"]\n",
        "\n",
        "    request = discoveryengine.ImportDocumentsRequest(\n",
        "        parent=parent,\n",
        "        gcs_source=discoveryengine.GcsSource(\n",
        "            input_uris=source_documents, data_schema=\"content\"\n",
        "        ),\n",
        "        # Options: `FULL`, `INCREMENTAL`\n",
        "        reconciliation_mode=discoveryengine.ImportDocumentsRequest.ReconciliationMode.INCREMENTAL,\n",
        "    )\n",
        "\n",
        "    # Make the request\n",
        "    operation = client.import_documents(request=request)\n",
        "\n",
        "    response = operation.result()\n",
        "\n",
        "    # Once the operation is complete, get information from operation metadata\n",
        "    metadata = discoveryengine.ImportDocumentsMetadata(operation.metadata)\n",
        "\n",
        "    # Handle the response\n",
        "    return operation.operation.name"
      ],
      "metadata": {
        "id": "SZi3kRoWbni7",
        "executionInfo": {
          "status": "ok",
          "timestamp": 1734416519459,
          "user_tz": 480,
          "elapsed": 178,
          "user": {
            "displayName": "",
            "userId": ""
          }
        }
      },
      "execution_count": 34,
      "outputs": []
    },
    {
      "cell_type": "code",
      "source": [
        "## Create a search engine\n",
        "def create_engine(\n",
        "    project_id: str, location: str, engine_name: str, engine_id: str, data_store_id: str\n",
        "):\n",
        "    # Create a client\n",
        "    client_options = (\n",
        "        ClientOptions(api_endpoint=f\"{location}-discoveryengine.googleapis.com\")\n",
        "        if location != \"global\"\n",
        "        else None\n",
        "    )\n",
        "    client = discoveryengine.EngineServiceClient(client_options=client_options)\n",
        "\n",
        "    # Initialize request argument(s)\n",
        "    engine = discoveryengine.Engine(\n",
        "        display_name=engine_name,\n",
        "        solution_type=discoveryengine.SolutionType.SOLUTION_TYPE_SEARCH,\n",
        "        industry_vertical=discoveryengine.IndustryVertical.GENERIC,\n",
        "        data_store_ids=[data_store_id],\n",
        "        search_engine_config=discoveryengine.Engine.SearchEngineConfig(\n",
        "            search_tier=discoveryengine.SearchTier.SEARCH_TIER_ENTERPRISE,\n",
        "        ),\n",
        "    )\n",
        "\n",
        "    request = discoveryengine.CreateEngineRequest(\n",
        "        parent=client.collection_path(project_id, location, \"default_collection\"),\n",
        "        engine=engine,\n",
        "        engine_id=engine.display_name,\n",
        "    )\n",
        "\n",
        "    # Make the request\n",
        "    operation = client.create_engine(request=request)\n",
        "    response = operation.result(timeout=90)\n",
        "    return response.name"
      ],
      "metadata": {
        "id": "kqIDXXwEcMWs",
        "executionInfo": {
          "status": "ok",
          "timestamp": 1734416521983,
          "user_tz": 480,
          "elapsed": 173,
          "user": {
            "displayName": "",
            "userId": ""
          }
        }
      },
      "execution_count": 35,
      "outputs": []
    },
    {
      "cell_type": "markdown",
      "source": [
        "### Setup Vertex AI Search\n",
        "\n",
        "Create datastore, import documents and create search"
      ],
      "metadata": {
        "id": "i2NJ2TfcSCHF"
      }
    },
    {
      "cell_type": "code",
      "source": [
        "# Set the location as global\n",
        "VERTEX_AI_SEARCH_LOCATION = \"global\"\n",
        "\n",
        "# The datastore name can only contain lowercase letters, numbers, and hyphens\n",
        "DATASTORE_NAME = \"alphabet-contracts-demo-1\"  # @param {type:\"string\", isTemplate: true}\n",
        "DATASTORE_ID = f\"{DATASTORE_NAME}-id\"\n",
        "\n",
        "created_ds_id = create_data_store(PROJECT_ID, VERTEX_AI_SEARCH_LOCATION, DATASTORE_NAME, DATASTORE_ID)\n",
        "print(created_ds_id)"
      ],
      "metadata": {
        "colab": {
          "base_uri": "https://localhost:8080/"
        },
        "id": "UBLJ0DpIPxIu",
        "executionInfo": {
          "status": "ok",
          "timestamp": 1734418020690,
          "user_tz": 480,
          "elapsed": 1129,
          "user": {
            "displayName": "",
            "userId": ""
          }
        },
        "outputId": "fbc2f4b0-b053-4f89-830d-d3dadb8fa5fc"
      },
      "execution_count": 44,
      "outputs": [
        {
          "output_type": "stream",
          "name": "stdout",
          "text": [
            "projects/756696270058/locations/global/collections/default_collection/dataStores/alphabet-contracts-demo-1-id\n"
          ]
        }
      ]
    },
    {
      "cell_type": "code",
      "source": [
        "GCS_BUCKET = \"gs://cloud-samples-data/gen-app-builder/search/alphabet-investor-pdfs\"  # @param {type:\"string\", isTemplate: true}\n",
        "\n",
        "import_documents(PROJECT_ID, VERTEX_AI_SEARCH_LOCATION, DATASTORE_ID, GCS_BUCKET)"
      ],
      "metadata": {
        "colab": {
          "base_uri": "https://localhost:8080/",
          "height": 35
        },
        "id": "Km9Wo1AUd7Xx",
        "executionInfo": {
          "status": "ok",
          "timestamp": 1734418546867,
          "user_tz": 480,
          "elapsed": 516279,
          "user": {
            "displayName": "",
            "userId": ""
          }
        },
        "outputId": "223969ec-ac70-434a-f33f-fd2868f6f46f"
      },
      "execution_count": 45,
      "outputs": [
        {
          "output_type": "execute_result",
          "data": {
            "text/plain": [
              "'projects/756696270058/locations/global/collections/default_collection/dataStores/alphabet-contracts-demo-1-id/branches/0/operations/import-documents-1407167227432598471'"
            ],
            "application/vnd.google.colaboratory.intrinsic+json": {
              "type": "string"
            }
          },
          "metadata": {},
          "execution_count": 45
        }
      ]
    },
    {
      "cell_type": "code",
      "source": [
        "ENGINE_NAME = DATASTORE_NAME\n",
        "ENGINE_ID = DATASTORE_ID\n",
        "created_engine_id = create_engine(\n",
        "    PROJECT_ID, VERTEX_AI_SEARCH_LOCATION, ENGINE_NAME, ENGINE_ID, DATASTORE_ID\n",
        ")\n",
        "print(created_engine_id)"
      ],
      "metadata": {
        "colab": {
          "base_uri": "https://localhost:8080/"
        },
        "id": "e9a3e4CIcXu0",
        "executionInfo": {
          "status": "ok",
          "timestamp": 1734418548772,
          "user_tz": 480,
          "elapsed": 1465,
          "user": {
            "displayName": "",
            "userId": ""
          }
        },
        "outputId": "4423e635-0330-4a06-e7cf-dd6c0eb5b169"
      },
      "execution_count": 46,
      "outputs": [
        {
          "output_type": "stream",
          "name": "stdout",
          "text": [
            "projects/756696270058/locations/global/collections/default_collection/engines/alphabet-contracts-demo-1\n"
          ]
        }
      ]
    },
    {
      "cell_type": "code",
      "source": [
        "# Name your corpus\n",
        "CORPUS_DISPLAY_NAME = \"rag-vertexai-vector-search\"  # @param {type:\"string\", \"placeholder\": \"your-corpus-name\"}\n",
        "\n",
        "# Vertex AI Search name\n",
        "ENGINE_NAME = created_engine_id\n",
        "vertex_ai_search_config = rag.VertexAiSearchConfig(\n",
        "    serving_config=f\"{ENGINE_NAME}/servingConfigs/default_search\",\n",
        ")\n",
        "\n",
        "# Create a RAG Corpus\n",
        "rag_corpus = rag.create_corpus(\n",
        "    display_name=CORPUS_DISPLAY_NAME,\n",
        "    vertex_ai_search_config=vertex_ai_search_config,\n",
        ")\n",
        "\n",
        "\n",
        "# Check the corpus just created\n",
        "new_corpus = rag.get_corpus(name=rag_corpus.name)\n"
      ],
      "metadata": {
        "id": "FH3buWA2dMa6",
        "executionInfo": {
          "status": "ok",
          "timestamp": 1734418657899,
          "user_tz": 480,
          "elapsed": 2767,
          "user": {
            "displayName": "",
            "userId": ""
          }
        },
        "colab": {
          "base_uri": "https://localhost:8080/"
        },
        "outputId": "ced06722-4967-43b8-8820-b757b63f9b8e"
      },
      "execution_count": 47,
      "outputs": [
        {
          "output_type": "execute_result",
          "data": {
            "text/plain": [
              "RagCorpus(name='projects/756696270058/locations/us-central1/ragCorpora/8791026472627208192', display_name='rag-vertexai-vector-search', description='', embedding_model_config=EmbeddingModelConfig(publisher_model=None, endpoint=None, model=None, model_version_id=None), vector_db=None, vertex_ai_search_config=VertexAiSearchConfig(serving_config='projects/756696270058/locations/global/collections/default_collection/engines/alphabet-contracts-demo-1/servingConfigs/default_search'), backend_config=RagVectorDbConfig(vector_db=None, rag_embedding_model_config=None))"
            ]
          },
          "metadata": {},
          "execution_count": 47
        }
      ]
    },
    {
      "cell_type": "code",
      "source": [
        "# Check the newly created corpus\n",
        "rag.list_corpora()"
      ],
      "metadata": {
        "colab": {
          "base_uri": "https://localhost:8080/"
        },
        "id": "quXc_jJPaLcc",
        "executionInfo": {
          "status": "ok",
          "timestamp": 1734418729634,
          "user_tz": 480,
          "elapsed": 383,
          "user": {
            "displayName": "",
            "userId": ""
          }
        },
        "outputId": "26518ff9-8d8a-41c2-f99f-d077a9929c56"
      },
      "execution_count": 48,
      "outputs": [
        {
          "output_type": "execute_result",
          "data": {
            "text/plain": [
              "ListRagCorporaPager<rag_corpora {\n",
              "  name: \"projects/demos-vertex/locations/us-central1/ragCorpora/8791026472627208192\"\n",
              "  display_name: \"rag-vertexai-vector-search\"\n",
              "  create_time {\n",
              "    seconds: 1734418656\n",
              "    nanos: 41792000\n",
              "  }\n",
              "  update_time {\n",
              "    seconds: 1734418656\n",
              "    nanos: 41792000\n",
              "  }\n",
              "  corpus_status {\n",
              "    state: ACTIVE\n",
              "  }\n",
              "  vertex_ai_search_config {\n",
              "    serving_config: \"projects/756696270058/locations/global/collections/default_collection/engines/alphabet-contracts-demo-1/servingConfigs/default_search\"\n",
              "  }\n",
              "}\n",
              ">"
            ]
          },
          "metadata": {},
          "execution_count": 48
        }
      ]
    },
    {
      "cell_type": "markdown",
      "source": [
        "### Create RAG Retrieval Tool"
      ],
      "metadata": {
        "id": "rqo7n1qRaiVU"
      }
    },
    {
      "cell_type": "code",
      "source": [
        "rag_resource = rag.RagResource(\n",
        "    rag_corpus=rag_corpus.name,\n",
        ")\n",
        "\n",
        "rag_retrieval_tool = Tool.from_retrieval(\n",
        "    retrieval=rag.Retrieval(\n",
        "        source=rag.VertexRagStore(\n",
        "            rag_resources=[rag_resource],  # Currently only 1 corpus is allowed.\n",
        "            similarity_top_k=10,\n",
        "        ),\n",
        "    )\n",
        ")"
      ],
      "metadata": {
        "id": "n7pMN5j2e4bF",
        "executionInfo": {
          "status": "ok",
          "timestamp": 1734418996378,
          "user_tz": 480,
          "elapsed": 181,
          "user": {
            "displayName": "",
            "userId": ""
          }
        }
      },
      "execution_count": 49,
      "outputs": []
    },
    {
      "cell_type": "markdown",
      "source": [
        "### Generate Content with Gemini using Rag Retrieval Tool"
      ],
      "metadata": {
        "id": "Hqw2duekbWpv"
      }
    },
    {
      "cell_type": "code",
      "source": [
        "rag_vertexsrch_model = GenerativeModel(\"gemini-1.5-flash\", tools=[rag_retrieval_tool])"
      ],
      "metadata": {
        "id": "N2VuAiNFanKu",
        "executionInfo": {
          "status": "ok",
          "timestamp": 1734419069501,
          "user_tz": 480,
          "elapsed": 205,
          "user": {
            "displayName": "",
            "userId": ""
          }
        }
      },
      "execution_count": 53,
      "outputs": []
    },
    {
      "cell_type": "markdown",
      "source": [
        "Question from the Alphabet docs in Google GCS Bucket"
      ],
      "metadata": {
        "id": "FcesiEIVgKnY"
      }
    },
    {
      "cell_type": "code",
      "source": [
        "response = rag_vertexsrch_model.generate_content(\"What is the total assets and total liabilities as of December 31 2021?\")\n",
        "display(Markdown(response.text))"
      ],
      "metadata": {
        "id": "agmu1dnwcL7N",
        "colab": {
          "base_uri": "https://localhost:8080/",
          "height": 50
        },
        "executionInfo": {
          "status": "ok",
          "timestamp": 1734419073550,
          "user_tz": 480,
          "elapsed": 2549,
          "user": {
            "displayName": "",
            "userId": ""
          }
        },
        "outputId": "dab72c0a-146e-4f49-d997-f1d1c2734c88"
      },
      "execution_count": 54,
      "outputs": [
        {
          "output_type": "display_data",
          "data": {
            "text/plain": [
              "<IPython.core.display.Markdown object>"
            ],
            "text/markdown": "As of December 31, 2021, Alphabet Inc. had total assets of $359,268 million and total liabilities of $107,633 million. \n"
          },
          "metadata": {}
        }
      ]
    },
    {
      "cell_type": "markdown",
      "metadata": {
        "id": "f700b3e23121"
      },
      "source": [
        "### Perform direct context retrieval\n",
        "\n",
        "Use retrieved contexts with your preferred SDK or API for final output."
      ]
    },
    {
      "cell_type": "code",
      "source": [
        "# RETRIEVAL_QUERY = \"What is the total assets and total liabilities as of December 31 2022?\"  # @param {type:\"string\"}\n",
        "\n",
        "# rag_resource = rag.RagResource(\n",
        "#     rag_corpus=rag_corpus.name,\n",
        "#     # Need to manually get the ids from rag.list_files.\n",
        "#     # rag_file_ids=[],\n",
        "# )\n",
        "\n",
        "# response = rag.retrieval_query(\n",
        "#     rag_resources=[rag_resource],  # Currently only 1 corpus is allowed.\n",
        "#     text=RETRIEVAL_QUERY,\n",
        "#     similarity_top_k=10,\n",
        "# )\n",
        "\n",
        "# # The retrieved context can be passed to any SDK or model generation API to generate final results.\n",
        "# retrieved_context = \" \".join(\n",
        "#     [context.text for context in response.contexts.contexts]\n",
        "# ).replace(\"\\n\", \"\")\n",
        "\n",
        "# retrieved_context"
      ],
      "metadata": {
        "id": "8iatbcJnb0Og"
      },
      "execution_count": null,
      "outputs": []
    },
    {
      "cell_type": "markdown",
      "source": [
        "### Cleanup"
      ],
      "metadata": {
        "id": "qTeniRzEbytZ"
      }
    }
  ],
  "metadata": {
    "colab": {
      "name": "vertexai_rag_engine_api.ipynb",
      "provenance": []
    },
    "kernelspec": {
      "display_name": "Python 3",
      "name": "python3"
    }
  },
  "nbformat": 4,
  "nbformat_minor": 0
}